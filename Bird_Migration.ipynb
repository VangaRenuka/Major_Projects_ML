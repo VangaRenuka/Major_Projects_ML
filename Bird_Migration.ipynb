{
  "cells": [
    {
      "cell_type": "code",
      "execution_count": null,
      "metadata": {
        "id": "K8OZ5bbjAwnd"
      },
      "outputs": [],
      "source": [
        "import numpy as np\n",
        "import pandas as pd\n",
        "import matplotlib.pyplot as plt\n",
        "import seaborn as sns\n",
        "import os"
      ]
    },
    {
      "cell_type": "code",
      "execution_count": null,
      "metadata": {
        "id": "FjnK9qSiFI0-"
      },
      "outputs": [],
      "source": [
        "bird_data=pd.read_csv('/content/bird_migration.csv')\n",
        "temporal_data=pd.read_csv('/content/temporal_dataset.csv')\n",
        "weather_data=pd.read_csv('/content/weather_data.csv')\n"
      ]
    },
    {
      "cell_type": "code",
      "execution_count": null,
      "metadata": {
        "colab": {
          "base_uri": "https://localhost:8080/"
        },
        "id": "hpN8ZP2sMBX-",
        "outputId": "66a61483-ea23-4330-cec5-cb5082df776b"
      },
      "outputs": [
        {
          "output_type": "execute_result",
          "data": {
            "text/plain": [
              "Index(['Unnamed: 0', 'altitude', 'date_time', 'device_info_serial',\n",
              "       'direction', 'latitude', 'longitude', 'speed_2d', 'bird_name'],\n",
              "      dtype='object')"
            ]
          },
          "metadata": {},
          "execution_count": 3
        }
      ],
      "source": [
        "bird_data.columns"
      ]
    },
    {
      "cell_type": "code",
      "execution_count": null,
      "metadata": {
        "colab": {
          "base_uri": "https://localhost:8080/"
        },
        "id": "nqW2wffmMFPR",
        "outputId": "804c921f-4895-464d-fbfc-dbac3155b8e8"
      },
      "outputs": [
        {
          "output_type": "execute_result",
          "data": {
            "text/plain": [
              "Index(['Date/Time', 'Temp_C', 'Dew Point Temp_C', 'Rel Hum_%',\n",
              "       'Wind Speed_km/h', 'Visibility_km', 'Press_kPa', 'Weather'],\n",
              "      dtype='object')"
            ]
          },
          "metadata": {},
          "execution_count": 4
        }
      ],
      "source": [
        "temporal_data.columns"
      ]
    },
    {
      "cell_type": "code",
      "execution_count": null,
      "metadata": {
        "colab": {
          "base_uri": "https://localhost:8080/"
        },
        "id": "6DrjAtJpMIyy",
        "outputId": "70b94b16-dfb8-42b7-d550-cc1fbeb0077a"
      },
      "outputs": [
        {
          "output_type": "execute_result",
          "data": {
            "text/plain": [
              "Index(['Location', 'Date_Time', 'Temperature_C', 'Humidity_pct',\n",
              "       'Precipitation_mm', 'Wind_Speed_kmh'],\n",
              "      dtype='object')"
            ]
          },
          "metadata": {},
          "execution_count": 5
        }
      ],
      "source": [
        "weather_data.columns"
      ]
    },
    {
      "cell_type": "code",
      "execution_count": null,
      "metadata": {
        "colab": {
          "base_uri": "https://localhost:8080/"
        },
        "id": "XtveM1DqF3E5",
        "outputId": "d1f693f0-a01c-4245-9a98-17bd74daa259"
      },
      "outputs": [
        {
          "output_type": "stream",
          "name": "stdout",
          "text": [
            "   Unnamed: 0  altitude               date_time  device_info_serial  \\\n",
            "0           0        71  2013-08-15 00:18:08+00                 851   \n",
            "1           1        68  2013-08-15 00:48:07+00                 851   \n",
            "2           2        68  2013-08-15 01:17:58+00                 851   \n",
            "3           3        73  2013-08-15 01:47:51+00                 851   \n",
            "4           4        69  2013-08-15 02:17:42+00                 851   \n",
            "\n",
            "    direction   latitude  longitude  speed_2d bird_name  \n",
            "0 -150.469753  49.419860   2.120733  0.150000      Eric  \n",
            "1 -136.151141  49.419880   2.120746  2.438360      Eric  \n",
            "2  160.797477  49.420310   2.120885  0.596657      Eric  \n",
            "3   32.769360  49.420359   2.120859  0.310161      Eric  \n",
            "4   45.191230  49.420331   2.120887  0.193132      Eric  \n"
          ]
        }
      ],
      "source": [
        "print(bird_data.head())\n",
        "#temporal_data.head()\n",
        "#weather_data.head()"
      ]
    },
    {
      "cell_type": "code",
      "execution_count": null,
      "metadata": {
        "colab": {
          "base_uri": "https://localhost:8080/"
        },
        "id": "vkwAQV6yLlre",
        "outputId": "c57685ee-af7b-46d7-fba6-2f710956f863"
      },
      "outputs": [
        {
          "output_type": "stream",
          "name": "stdout",
          "text": [
            "       Date/Time  Temp_C  Dew Point Temp_C  Rel Hum_%  Wind Speed_km/h  \\\n",
            "0  1/1/2012 0:00    -1.8              -3.9         86                4   \n",
            "1  1/1/2012 1:00    -1.8              -3.7         87                4   \n",
            "2  1/1/2012 2:00    -1.8              -3.4         89                7   \n",
            "3  1/1/2012 3:00    -1.5              -3.2         88                6   \n",
            "4  1/1/2012 4:00    -1.5              -3.3         88                7   \n",
            "\n",
            "   Visibility_km  Press_kPa               Weather  \n",
            "0            8.0     101.24                   Fog  \n",
            "1            8.0     101.24                   Fog  \n",
            "2            4.0     101.26  Freezing Drizzle,Fog  \n",
            "3            4.0     101.27  Freezing Drizzle,Fog  \n",
            "4            4.8     101.23                   Fog  \n"
          ]
        }
      ],
      "source": [
        "print(temporal_data.head())"
      ]
    },
    {
      "cell_type": "code",
      "execution_count": null,
      "metadata": {
        "colab": {
          "base_uri": "https://localhost:8080/"
        },
        "id": "dvcd3sY5L3rp",
        "outputId": "bdaf262e-0d22-44d4-e710-ddc9a26863f6"
      },
      "outputs": [
        {
          "output_type": "stream",
          "name": "stdout",
          "text": [
            "       Location            Date_Time  Temperature_C  Humidity_pct  \\\n",
            "0     San Diego  2024-01-14 21:12:46      10.683001     41.195754   \n",
            "1     San Diego  2024-05-17 15:22:10       8.734140     58.319107   \n",
            "2     San Diego  2024-05-11 09:30:59      11.632436     38.820175   \n",
            "3  Philadelphia  2024-02-26 17:32:39      -8.628976     54.074474   \n",
            "4   San Antonio  2024-04-29 13:23:51      39.808213     72.899908   \n",
            "\n",
            "   Precipitation_mm  Wind_Speed_kmh  \n",
            "0          4.020119        8.233540  \n",
            "1          9.111623       27.715161  \n",
            "2          4.607511       28.732951  \n",
            "3          3.183720       26.367303  \n",
            "4          9.598282       29.898622  \n"
          ]
        }
      ],
      "source": [
        "print(weather_data.head())"
      ]
    },
    {
      "cell_type": "code",
      "execution_count": null,
      "metadata": {
        "colab": {
          "base_uri": "https://localhost:8080/"
        },
        "id": "6IS3_GSnbmf3",
        "outputId": "4dfb5cc7-d932-4010-83af-197d15b589e7"
      },
      "outputs": [
        {
          "output_type": "stream",
          "name": "stdout",
          "text": [
            "Unnamed: 0              0\n",
            "altitude                0\n",
            "date_time               0\n",
            "device_info_serial      0\n",
            "direction             443\n",
            "latitude                0\n",
            "longitude               0\n",
            "speed_2d              443\n",
            "bird_name               0\n",
            "dtype: int64\n"
          ]
        }
      ],
      "source": [
        "print(bird_data.isnull().sum())"
      ]
    },
    {
      "cell_type": "code",
      "execution_count": null,
      "metadata": {
        "id": "qq3YRMlkb44x"
      },
      "outputs": [],
      "source": [
        "bird_data.fillna(method='ffill', inplace=True)"
      ]
    },
    {
      "cell_type": "code",
      "execution_count": null,
      "metadata": {
        "colab": {
          "base_uri": "https://localhost:8080/"
        },
        "id": "njPMPxRYb8I9",
        "outputId": "cfb20f62-5765-4494-d800-476e36f80d46"
      },
      "outputs": [
        {
          "output_type": "stream",
          "name": "stdout",
          "text": [
            "Location            0\n",
            "Date_Time           1\n",
            "Temperature_C       1\n",
            "Humidity_pct        1\n",
            "Precipitation_mm    1\n",
            "Wind_Speed_kmh      1\n",
            "dtype: int64\n"
          ]
        }
      ],
      "source": [
        "print(weather_data.isnull().sum())"
      ]
    },
    {
      "cell_type": "code",
      "execution_count": null,
      "metadata": {
        "id": "OPoeUydicJuX"
      },
      "outputs": [],
      "source": [
        "weather_data.fillna(method='ffill', inplace=True)"
      ]
    },
    {
      "cell_type": "code",
      "execution_count": null,
      "metadata": {
        "colab": {
          "base_uri": "https://localhost:8080/"
        },
        "id": "6r4Z_E8ocRXc",
        "outputId": "4110d72d-0bc4-4562-a89f-5ada2f4b4d48"
      },
      "outputs": [
        {
          "output_type": "stream",
          "name": "stdout",
          "text": [
            "Date/Time           0\n",
            "Temp_C              0\n",
            "Dew Point Temp_C    0\n",
            "Rel Hum_%           0\n",
            "Wind Speed_km/h     0\n",
            "Visibility_km       0\n",
            "Press_kPa           0\n",
            "Weather             0\n",
            "dtype: int64\n"
          ]
        }
      ],
      "source": [
        "print(temporal_data.isnull().sum())"
      ]
    },
    {
      "cell_type": "code",
      "execution_count": null,
      "metadata": {
        "colab": {
          "base_uri": "https://localhost:8080/"
        },
        "id": "m476XT2zvJ53",
        "outputId": "f4250ee3-946a-4d20-bc83-8d76ca91aeb2"
      },
      "outputs": [
        {
          "output_type": "execute_result",
          "data": {
            "text/plain": [
              "((61920, 9), (8784, 8), (60434, 6))"
            ]
          },
          "metadata": {},
          "execution_count": 14
        }
      ],
      "source": [
        "bird_data.shape,temporal_data.shape,weather_data.shape"
      ]
    },
    {
      "cell_type": "code",
      "execution_count": null,
      "metadata": {
        "id": "Ase1BiHIoQOY"
      },
      "outputs": [],
      "source": [
        "bird_data['date_time'] = pd.to_datetime(bird_data['date_time'])\n",
        "temporal_data['Date/Time'] = pd.to_datetime(temporal_data['Date/Time']).dt.tz_localize('UTC')\n",
        "weather_data['Date_Time'] = pd.to_datetime(weather_data['Date_Time']).dt.tz_localize('UTC')"
      ]
    },
    {
      "cell_type": "code",
      "execution_count": null,
      "metadata": {
        "colab": {
          "base_uri": "https://localhost:8080/"
        },
        "id": "H4ikW6u4w9i4",
        "outputId": "c74fb155-3e62-4fff-db1a-dd4b6d87d005"
      },
      "outputs": [
        {
          "output_type": "stream",
          "name": "stdout",
          "text": [
            "Bird Data Date Range:\n",
            "2013-08-15 00:01:08+00:00 to 2014-04-30 23:59:34+00:00\n",
            "\n",
            "Temporal Data Date Range:\n",
            "2012-01-01 00:00:00+00:00 to 2012-12-31 23:00:00+00:00\n"
          ]
        }
      ],
      "source": [
        "print(\"Bird Data Date Range:\")\n",
        "print(bird_data['date_time'].min(), \"to\", bird_data['date_time'].max())\n",
        "\n",
        "print(\"\\nTemporal Data Date Range:\")\n",
        "print(temporal_data['Date/Time'].min(), \"to\", temporal_data['Date/Time'].max())"
      ]
    },
    {
      "cell_type": "code",
      "execution_count": null,
      "metadata": {
        "id": "6oGEaQZ6u2fq"
      },
      "outputs": [],
      "source": [
        "if 'latitude' not in weather_data.columns or 'longitude' not in weather_data.columns:\n",
        "    # Assuming weather data has location information to derive lat/long\n",
        "    # For demonstration purposes, adding dummy lat/long\n",
        "    weather_data['latitude'] = bird_data['latitude'].mean()  # Replace with actual method to get lat/long\n",
        "    weather_data['longitude'] = bird_data['longitude'].mean()  # Replace with actual method to get lat/long\n"
      ]
    },
    {
      "cell_type": "code",
      "execution_count": null,
      "metadata": {
        "id": "xBDvyF7DxITW"
      },
      "outputs": [],
      "source": [
        "\n",
        "    merged_data = pd.merge(bird_data, temporal_data, left_on='date_time', right_on='Date/Time', how='outer')"
      ]
    },
    {
      "cell_type": "code",
      "execution_count": null,
      "metadata": {
        "colab": {
          "base_uri": "https://localhost:8080/",
          "height": 652
        },
        "id": "EWf8vxD7xOOT",
        "outputId": "fe677132-639c-43a9-ff4e-027003928edc"
      },
      "outputs": [
        {
          "output_type": "execute_result",
          "data": {
            "text/plain": [
              "       Unnamed: 0  altitude                 date_time  device_info_serial  \\\n",
              "0             0.0      71.0 2013-08-15 00:18:08+00:00               851.0   \n",
              "1             1.0      68.0 2013-08-15 00:48:07+00:00               851.0   \n",
              "2             2.0      68.0 2013-08-15 01:17:58+00:00               851.0   \n",
              "3             3.0      73.0 2013-08-15 01:47:51+00:00               851.0   \n",
              "4             4.0      69.0 2013-08-15 02:17:42+00:00               851.0   \n",
              "...           ...       ...                       ...                 ...   \n",
              "70699         NaN       NaN                       NaT                 NaN   \n",
              "70700         NaN       NaN                       NaT                 NaN   \n",
              "70701         NaN       NaN                       NaT                 NaN   \n",
              "70702         NaN       NaN                       NaT                 NaN   \n",
              "70703         NaN       NaN                       NaT                 NaN   \n",
              "\n",
              "        direction   latitude  longitude  speed_2d bird_name  \\\n",
              "0     -150.469753  49.419860   2.120733  0.150000      Eric   \n",
              "1     -136.151141  49.419880   2.120746  2.438360      Eric   \n",
              "2      160.797477  49.420310   2.120885  0.596657      Eric   \n",
              "3       32.769360  49.420359   2.120859  0.310161      Eric   \n",
              "4       45.191230  49.420331   2.120887  0.193132      Eric   \n",
              "...           ...        ...        ...       ...       ...   \n",
              "70699         NaN        NaN        NaN       NaN       NaN   \n",
              "70700         NaN        NaN        NaN       NaN       NaN   \n",
              "70701         NaN        NaN        NaN       NaN       NaN   \n",
              "70702         NaN        NaN        NaN       NaN       NaN   \n",
              "70703         NaN        NaN        NaN       NaN       NaN   \n",
              "\n",
              "                      Date/Time  Temp_C  Dew Point Temp_C  Rel Hum_%  \\\n",
              "0                           NaT     NaN               NaN        NaN   \n",
              "1                           NaT     NaN               NaN        NaN   \n",
              "2                           NaT     NaN               NaN        NaN   \n",
              "3                           NaT     NaN               NaN        NaN   \n",
              "4                           NaT     NaN               NaN        NaN   \n",
              "...                         ...     ...               ...        ...   \n",
              "70699 2012-12-31 19:00:00+00:00     0.1              -2.7       81.0   \n",
              "70700 2012-12-31 20:00:00+00:00     0.2              -2.4       83.0   \n",
              "70701 2012-12-31 21:00:00+00:00    -0.5              -1.5       93.0   \n",
              "70702 2012-12-31 22:00:00+00:00    -0.2              -1.8       89.0   \n",
              "70703 2012-12-31 23:00:00+00:00     0.0              -2.1       86.0   \n",
              "\n",
              "       Wind Speed_km/h  Visibility_km  Press_kPa Weather  \n",
              "0                  NaN            NaN        NaN     NaN  \n",
              "1                  NaN            NaN        NaN     NaN  \n",
              "2                  NaN            NaN        NaN     NaN  \n",
              "3                  NaN            NaN        NaN     NaN  \n",
              "4                  NaN            NaN        NaN     NaN  \n",
              "...                ...            ...        ...     ...  \n",
              "70699             30.0            9.7     100.13    Snow  \n",
              "70700             24.0            9.7     100.03    Snow  \n",
              "70701             28.0            4.8      99.95    Snow  \n",
              "70702             28.0            9.7      99.91    Snow  \n",
              "70703             30.0           11.3      99.89    Snow  \n",
              "\n",
              "[70704 rows x 17 columns]"
            ],
            "text/html": [
              "\n",
              "  <div id=\"df-f6788deb-9c97-47f7-8617-d71c4ed38ecc\" class=\"colab-df-container\">\n",
              "    <div>\n",
              "<style scoped>\n",
              "    .dataframe tbody tr th:only-of-type {\n",
              "        vertical-align: middle;\n",
              "    }\n",
              "\n",
              "    .dataframe tbody tr th {\n",
              "        vertical-align: top;\n",
              "    }\n",
              "\n",
              "    .dataframe thead th {\n",
              "        text-align: right;\n",
              "    }\n",
              "</style>\n",
              "<table border=\"1\" class=\"dataframe\">\n",
              "  <thead>\n",
              "    <tr style=\"text-align: right;\">\n",
              "      <th></th>\n",
              "      <th>Unnamed: 0</th>\n",
              "      <th>altitude</th>\n",
              "      <th>date_time</th>\n",
              "      <th>device_info_serial</th>\n",
              "      <th>direction</th>\n",
              "      <th>latitude</th>\n",
              "      <th>longitude</th>\n",
              "      <th>speed_2d</th>\n",
              "      <th>bird_name</th>\n",
              "      <th>Date/Time</th>\n",
              "      <th>Temp_C</th>\n",
              "      <th>Dew Point Temp_C</th>\n",
              "      <th>Rel Hum_%</th>\n",
              "      <th>Wind Speed_km/h</th>\n",
              "      <th>Visibility_km</th>\n",
              "      <th>Press_kPa</th>\n",
              "      <th>Weather</th>\n",
              "    </tr>\n",
              "  </thead>\n",
              "  <tbody>\n",
              "    <tr>\n",
              "      <th>0</th>\n",
              "      <td>0.0</td>\n",
              "      <td>71.0</td>\n",
              "      <td>2013-08-15 00:18:08+00:00</td>\n",
              "      <td>851.0</td>\n",
              "      <td>-150.469753</td>\n",
              "      <td>49.419860</td>\n",
              "      <td>2.120733</td>\n",
              "      <td>0.150000</td>\n",
              "      <td>Eric</td>\n",
              "      <td>NaT</td>\n",
              "      <td>NaN</td>\n",
              "      <td>NaN</td>\n",
              "      <td>NaN</td>\n",
              "      <td>NaN</td>\n",
              "      <td>NaN</td>\n",
              "      <td>NaN</td>\n",
              "      <td>NaN</td>\n",
              "    </tr>\n",
              "    <tr>\n",
              "      <th>1</th>\n",
              "      <td>1.0</td>\n",
              "      <td>68.0</td>\n",
              "      <td>2013-08-15 00:48:07+00:00</td>\n",
              "      <td>851.0</td>\n",
              "      <td>-136.151141</td>\n",
              "      <td>49.419880</td>\n",
              "      <td>2.120746</td>\n",
              "      <td>2.438360</td>\n",
              "      <td>Eric</td>\n",
              "      <td>NaT</td>\n",
              "      <td>NaN</td>\n",
              "      <td>NaN</td>\n",
              "      <td>NaN</td>\n",
              "      <td>NaN</td>\n",
              "      <td>NaN</td>\n",
              "      <td>NaN</td>\n",
              "      <td>NaN</td>\n",
              "    </tr>\n",
              "    <tr>\n",
              "      <th>2</th>\n",
              "      <td>2.0</td>\n",
              "      <td>68.0</td>\n",
              "      <td>2013-08-15 01:17:58+00:00</td>\n",
              "      <td>851.0</td>\n",
              "      <td>160.797477</td>\n",
              "      <td>49.420310</td>\n",
              "      <td>2.120885</td>\n",
              "      <td>0.596657</td>\n",
              "      <td>Eric</td>\n",
              "      <td>NaT</td>\n",
              "      <td>NaN</td>\n",
              "      <td>NaN</td>\n",
              "      <td>NaN</td>\n",
              "      <td>NaN</td>\n",
              "      <td>NaN</td>\n",
              "      <td>NaN</td>\n",
              "      <td>NaN</td>\n",
              "    </tr>\n",
              "    <tr>\n",
              "      <th>3</th>\n",
              "      <td>3.0</td>\n",
              "      <td>73.0</td>\n",
              "      <td>2013-08-15 01:47:51+00:00</td>\n",
              "      <td>851.0</td>\n",
              "      <td>32.769360</td>\n",
              "      <td>49.420359</td>\n",
              "      <td>2.120859</td>\n",
              "      <td>0.310161</td>\n",
              "      <td>Eric</td>\n",
              "      <td>NaT</td>\n",
              "      <td>NaN</td>\n",
              "      <td>NaN</td>\n",
              "      <td>NaN</td>\n",
              "      <td>NaN</td>\n",
              "      <td>NaN</td>\n",
              "      <td>NaN</td>\n",
              "      <td>NaN</td>\n",
              "    </tr>\n",
              "    <tr>\n",
              "      <th>4</th>\n",
              "      <td>4.0</td>\n",
              "      <td>69.0</td>\n",
              "      <td>2013-08-15 02:17:42+00:00</td>\n",
              "      <td>851.0</td>\n",
              "      <td>45.191230</td>\n",
              "      <td>49.420331</td>\n",
              "      <td>2.120887</td>\n",
              "      <td>0.193132</td>\n",
              "      <td>Eric</td>\n",
              "      <td>NaT</td>\n",
              "      <td>NaN</td>\n",
              "      <td>NaN</td>\n",
              "      <td>NaN</td>\n",
              "      <td>NaN</td>\n",
              "      <td>NaN</td>\n",
              "      <td>NaN</td>\n",
              "      <td>NaN</td>\n",
              "    </tr>\n",
              "    <tr>\n",
              "      <th>...</th>\n",
              "      <td>...</td>\n",
              "      <td>...</td>\n",
              "      <td>...</td>\n",
              "      <td>...</td>\n",
              "      <td>...</td>\n",
              "      <td>...</td>\n",
              "      <td>...</td>\n",
              "      <td>...</td>\n",
              "      <td>...</td>\n",
              "      <td>...</td>\n",
              "      <td>...</td>\n",
              "      <td>...</td>\n",
              "      <td>...</td>\n",
              "      <td>...</td>\n",
              "      <td>...</td>\n",
              "      <td>...</td>\n",
              "      <td>...</td>\n",
              "    </tr>\n",
              "    <tr>\n",
              "      <th>70699</th>\n",
              "      <td>NaN</td>\n",
              "      <td>NaN</td>\n",
              "      <td>NaT</td>\n",
              "      <td>NaN</td>\n",
              "      <td>NaN</td>\n",
              "      <td>NaN</td>\n",
              "      <td>NaN</td>\n",
              "      <td>NaN</td>\n",
              "      <td>NaN</td>\n",
              "      <td>2012-12-31 19:00:00+00:00</td>\n",
              "      <td>0.1</td>\n",
              "      <td>-2.7</td>\n",
              "      <td>81.0</td>\n",
              "      <td>30.0</td>\n",
              "      <td>9.7</td>\n",
              "      <td>100.13</td>\n",
              "      <td>Snow</td>\n",
              "    </tr>\n",
              "    <tr>\n",
              "      <th>70700</th>\n",
              "      <td>NaN</td>\n",
              "      <td>NaN</td>\n",
              "      <td>NaT</td>\n",
              "      <td>NaN</td>\n",
              "      <td>NaN</td>\n",
              "      <td>NaN</td>\n",
              "      <td>NaN</td>\n",
              "      <td>NaN</td>\n",
              "      <td>NaN</td>\n",
              "      <td>2012-12-31 20:00:00+00:00</td>\n",
              "      <td>0.2</td>\n",
              "      <td>-2.4</td>\n",
              "      <td>83.0</td>\n",
              "      <td>24.0</td>\n",
              "      <td>9.7</td>\n",
              "      <td>100.03</td>\n",
              "      <td>Snow</td>\n",
              "    </tr>\n",
              "    <tr>\n",
              "      <th>70701</th>\n",
              "      <td>NaN</td>\n",
              "      <td>NaN</td>\n",
              "      <td>NaT</td>\n",
              "      <td>NaN</td>\n",
              "      <td>NaN</td>\n",
              "      <td>NaN</td>\n",
              "      <td>NaN</td>\n",
              "      <td>NaN</td>\n",
              "      <td>NaN</td>\n",
              "      <td>2012-12-31 21:00:00+00:00</td>\n",
              "      <td>-0.5</td>\n",
              "      <td>-1.5</td>\n",
              "      <td>93.0</td>\n",
              "      <td>28.0</td>\n",
              "      <td>4.8</td>\n",
              "      <td>99.95</td>\n",
              "      <td>Snow</td>\n",
              "    </tr>\n",
              "    <tr>\n",
              "      <th>70702</th>\n",
              "      <td>NaN</td>\n",
              "      <td>NaN</td>\n",
              "      <td>NaT</td>\n",
              "      <td>NaN</td>\n",
              "      <td>NaN</td>\n",
              "      <td>NaN</td>\n",
              "      <td>NaN</td>\n",
              "      <td>NaN</td>\n",
              "      <td>NaN</td>\n",
              "      <td>2012-12-31 22:00:00+00:00</td>\n",
              "      <td>-0.2</td>\n",
              "      <td>-1.8</td>\n",
              "      <td>89.0</td>\n",
              "      <td>28.0</td>\n",
              "      <td>9.7</td>\n",
              "      <td>99.91</td>\n",
              "      <td>Snow</td>\n",
              "    </tr>\n",
              "    <tr>\n",
              "      <th>70703</th>\n",
              "      <td>NaN</td>\n",
              "      <td>NaN</td>\n",
              "      <td>NaT</td>\n",
              "      <td>NaN</td>\n",
              "      <td>NaN</td>\n",
              "      <td>NaN</td>\n",
              "      <td>NaN</td>\n",
              "      <td>NaN</td>\n",
              "      <td>NaN</td>\n",
              "      <td>2012-12-31 23:00:00+00:00</td>\n",
              "      <td>0.0</td>\n",
              "      <td>-2.1</td>\n",
              "      <td>86.0</td>\n",
              "      <td>30.0</td>\n",
              "      <td>11.3</td>\n",
              "      <td>99.89</td>\n",
              "      <td>Snow</td>\n",
              "    </tr>\n",
              "  </tbody>\n",
              "</table>\n",
              "<p>70704 rows × 17 columns</p>\n",
              "</div>\n",
              "    <div class=\"colab-df-buttons\">\n",
              "\n",
              "  <div class=\"colab-df-container\">\n",
              "    <button class=\"colab-df-convert\" onclick=\"convertToInteractive('df-f6788deb-9c97-47f7-8617-d71c4ed38ecc')\"\n",
              "            title=\"Convert this dataframe to an interactive table.\"\n",
              "            style=\"display:none;\">\n",
              "\n",
              "  <svg xmlns=\"http://www.w3.org/2000/svg\" height=\"24px\" viewBox=\"0 -960 960 960\">\n",
              "    <path d=\"M120-120v-720h720v720H120Zm60-500h600v-160H180v160Zm220 220h160v-160H400v160Zm0 220h160v-160H400v160ZM180-400h160v-160H180v160Zm440 0h160v-160H620v160ZM180-180h160v-160H180v160Zm440 0h160v-160H620v160Z\"/>\n",
              "  </svg>\n",
              "    </button>\n",
              "\n",
              "  <style>\n",
              "    .colab-df-container {\n",
              "      display:flex;\n",
              "      gap: 12px;\n",
              "    }\n",
              "\n",
              "    .colab-df-convert {\n",
              "      background-color: #E8F0FE;\n",
              "      border: none;\n",
              "      border-radius: 50%;\n",
              "      cursor: pointer;\n",
              "      display: none;\n",
              "      fill: #1967D2;\n",
              "      height: 32px;\n",
              "      padding: 0 0 0 0;\n",
              "      width: 32px;\n",
              "    }\n",
              "\n",
              "    .colab-df-convert:hover {\n",
              "      background-color: #E2EBFA;\n",
              "      box-shadow: 0px 1px 2px rgba(60, 64, 67, 0.3), 0px 1px 3px 1px rgba(60, 64, 67, 0.15);\n",
              "      fill: #174EA6;\n",
              "    }\n",
              "\n",
              "    .colab-df-buttons div {\n",
              "      margin-bottom: 4px;\n",
              "    }\n",
              "\n",
              "    [theme=dark] .colab-df-convert {\n",
              "      background-color: #3B4455;\n",
              "      fill: #D2E3FC;\n",
              "    }\n",
              "\n",
              "    [theme=dark] .colab-df-convert:hover {\n",
              "      background-color: #434B5C;\n",
              "      box-shadow: 0px 1px 3px 1px rgba(0, 0, 0, 0.15);\n",
              "      filter: drop-shadow(0px 1px 2px rgba(0, 0, 0, 0.3));\n",
              "      fill: #FFFFFF;\n",
              "    }\n",
              "  </style>\n",
              "\n",
              "    <script>\n",
              "      const buttonEl =\n",
              "        document.querySelector('#df-f6788deb-9c97-47f7-8617-d71c4ed38ecc button.colab-df-convert');\n",
              "      buttonEl.style.display =\n",
              "        google.colab.kernel.accessAllowed ? 'block' : 'none';\n",
              "\n",
              "      async function convertToInteractive(key) {\n",
              "        const element = document.querySelector('#df-f6788deb-9c97-47f7-8617-d71c4ed38ecc');\n",
              "        const dataTable =\n",
              "          await google.colab.kernel.invokeFunction('convertToInteractive',\n",
              "                                                    [key], {});\n",
              "        if (!dataTable) return;\n",
              "\n",
              "        const docLinkHtml = 'Like what you see? Visit the ' +\n",
              "          '<a target=\"_blank\" href=https://colab.research.google.com/notebooks/data_table.ipynb>data table notebook</a>'\n",
              "          + ' to learn more about interactive tables.';\n",
              "        element.innerHTML = '';\n",
              "        dataTable['output_type'] = 'display_data';\n",
              "        await google.colab.output.renderOutput(dataTable, element);\n",
              "        const docLink = document.createElement('div');\n",
              "        docLink.innerHTML = docLinkHtml;\n",
              "        element.appendChild(docLink);\n",
              "      }\n",
              "    </script>\n",
              "  </div>\n",
              "\n",
              "\n",
              "<div id=\"df-368f2be4-9aa6-4d0b-a0a7-87e88c4d5eb8\">\n",
              "  <button class=\"colab-df-quickchart\" onclick=\"quickchart('df-368f2be4-9aa6-4d0b-a0a7-87e88c4d5eb8')\"\n",
              "            title=\"Suggest charts\"\n",
              "            style=\"display:none;\">\n",
              "\n",
              "<svg xmlns=\"http://www.w3.org/2000/svg\" height=\"24px\"viewBox=\"0 0 24 24\"\n",
              "     width=\"24px\">\n",
              "    <g>\n",
              "        <path d=\"M19 3H5c-1.1 0-2 .9-2 2v14c0 1.1.9 2 2 2h14c1.1 0 2-.9 2-2V5c0-1.1-.9-2-2-2zM9 17H7v-7h2v7zm4 0h-2V7h2v10zm4 0h-2v-4h2v4z\"/>\n",
              "    </g>\n",
              "</svg>\n",
              "  </button>\n",
              "\n",
              "<style>\n",
              "  .colab-df-quickchart {\n",
              "      --bg-color: #E8F0FE;\n",
              "      --fill-color: #1967D2;\n",
              "      --hover-bg-color: #E2EBFA;\n",
              "      --hover-fill-color: #174EA6;\n",
              "      --disabled-fill-color: #AAA;\n",
              "      --disabled-bg-color: #DDD;\n",
              "  }\n",
              "\n",
              "  [theme=dark] .colab-df-quickchart {\n",
              "      --bg-color: #3B4455;\n",
              "      --fill-color: #D2E3FC;\n",
              "      --hover-bg-color: #434B5C;\n",
              "      --hover-fill-color: #FFFFFF;\n",
              "      --disabled-bg-color: #3B4455;\n",
              "      --disabled-fill-color: #666;\n",
              "  }\n",
              "\n",
              "  .colab-df-quickchart {\n",
              "    background-color: var(--bg-color);\n",
              "    border: none;\n",
              "    border-radius: 50%;\n",
              "    cursor: pointer;\n",
              "    display: none;\n",
              "    fill: var(--fill-color);\n",
              "    height: 32px;\n",
              "    padding: 0;\n",
              "    width: 32px;\n",
              "  }\n",
              "\n",
              "  .colab-df-quickchart:hover {\n",
              "    background-color: var(--hover-bg-color);\n",
              "    box-shadow: 0 1px 2px rgba(60, 64, 67, 0.3), 0 1px 3px 1px rgba(60, 64, 67, 0.15);\n",
              "    fill: var(--button-hover-fill-color);\n",
              "  }\n",
              "\n",
              "  .colab-df-quickchart-complete:disabled,\n",
              "  .colab-df-quickchart-complete:disabled:hover {\n",
              "    background-color: var(--disabled-bg-color);\n",
              "    fill: var(--disabled-fill-color);\n",
              "    box-shadow: none;\n",
              "  }\n",
              "\n",
              "  .colab-df-spinner {\n",
              "    border: 2px solid var(--fill-color);\n",
              "    border-color: transparent;\n",
              "    border-bottom-color: var(--fill-color);\n",
              "    animation:\n",
              "      spin 1s steps(1) infinite;\n",
              "  }\n",
              "\n",
              "  @keyframes spin {\n",
              "    0% {\n",
              "      border-color: transparent;\n",
              "      border-bottom-color: var(--fill-color);\n",
              "      border-left-color: var(--fill-color);\n",
              "    }\n",
              "    20% {\n",
              "      border-color: transparent;\n",
              "      border-left-color: var(--fill-color);\n",
              "      border-top-color: var(--fill-color);\n",
              "    }\n",
              "    30% {\n",
              "      border-color: transparent;\n",
              "      border-left-color: var(--fill-color);\n",
              "      border-top-color: var(--fill-color);\n",
              "      border-right-color: var(--fill-color);\n",
              "    }\n",
              "    40% {\n",
              "      border-color: transparent;\n",
              "      border-right-color: var(--fill-color);\n",
              "      border-top-color: var(--fill-color);\n",
              "    }\n",
              "    60% {\n",
              "      border-color: transparent;\n",
              "      border-right-color: var(--fill-color);\n",
              "    }\n",
              "    80% {\n",
              "      border-color: transparent;\n",
              "      border-right-color: var(--fill-color);\n",
              "      border-bottom-color: var(--fill-color);\n",
              "    }\n",
              "    90% {\n",
              "      border-color: transparent;\n",
              "      border-bottom-color: var(--fill-color);\n",
              "    }\n",
              "  }\n",
              "</style>\n",
              "\n",
              "  <script>\n",
              "    async function quickchart(key) {\n",
              "      const quickchartButtonEl =\n",
              "        document.querySelector('#' + key + ' button');\n",
              "      quickchartButtonEl.disabled = true;  // To prevent multiple clicks.\n",
              "      quickchartButtonEl.classList.add('colab-df-spinner');\n",
              "      try {\n",
              "        const charts = await google.colab.kernel.invokeFunction(\n",
              "            'suggestCharts', [key], {});\n",
              "      } catch (error) {\n",
              "        console.error('Error during call to suggestCharts:', error);\n",
              "      }\n",
              "      quickchartButtonEl.classList.remove('colab-df-spinner');\n",
              "      quickchartButtonEl.classList.add('colab-df-quickchart-complete');\n",
              "    }\n",
              "    (() => {\n",
              "      let quickchartButtonEl =\n",
              "        document.querySelector('#df-368f2be4-9aa6-4d0b-a0a7-87e88c4d5eb8 button');\n",
              "      quickchartButtonEl.style.display =\n",
              "        google.colab.kernel.accessAllowed ? 'block' : 'none';\n",
              "    })();\n",
              "  </script>\n",
              "</div>\n",
              "\n",
              "  <div id=\"id_401fb6fa-a553-4188-8fc2-d4ab1619dbfd\">\n",
              "    <style>\n",
              "      .colab-df-generate {\n",
              "        background-color: #E8F0FE;\n",
              "        border: none;\n",
              "        border-radius: 50%;\n",
              "        cursor: pointer;\n",
              "        display: none;\n",
              "        fill: #1967D2;\n",
              "        height: 32px;\n",
              "        padding: 0 0 0 0;\n",
              "        width: 32px;\n",
              "      }\n",
              "\n",
              "      .colab-df-generate:hover {\n",
              "        background-color: #E2EBFA;\n",
              "        box-shadow: 0px 1px 2px rgba(60, 64, 67, 0.3), 0px 1px 3px 1px rgba(60, 64, 67, 0.15);\n",
              "        fill: #174EA6;\n",
              "      }\n",
              "\n",
              "      [theme=dark] .colab-df-generate {\n",
              "        background-color: #3B4455;\n",
              "        fill: #D2E3FC;\n",
              "      }\n",
              "\n",
              "      [theme=dark] .colab-df-generate:hover {\n",
              "        background-color: #434B5C;\n",
              "        box-shadow: 0px 1px 3px 1px rgba(0, 0, 0, 0.15);\n",
              "        filter: drop-shadow(0px 1px 2px rgba(0, 0, 0, 0.3));\n",
              "        fill: #FFFFFF;\n",
              "      }\n",
              "    </style>\n",
              "    <button class=\"colab-df-generate\" onclick=\"generateWithVariable('merged_data')\"\n",
              "            title=\"Generate code using this dataframe.\"\n",
              "            style=\"display:none;\">\n",
              "\n",
              "  <svg xmlns=\"http://www.w3.org/2000/svg\" height=\"24px\"viewBox=\"0 0 24 24\"\n",
              "       width=\"24px\">\n",
              "    <path d=\"M7,19H8.4L18.45,9,17,7.55,7,17.6ZM5,21V16.75L18.45,3.32a2,2,0,0,1,2.83,0l1.4,1.43a1.91,1.91,0,0,1,.58,1.4,1.91,1.91,0,0,1-.58,1.4L9.25,21ZM18.45,9,17,7.55Zm-12,3A5.31,5.31,0,0,0,4.9,8.1,5.31,5.31,0,0,0,1,6.5,5.31,5.31,0,0,0,4.9,4.9,5.31,5.31,0,0,0,6.5,1,5.31,5.31,0,0,0,8.1,4.9,5.31,5.31,0,0,0,12,6.5,5.46,5.46,0,0,0,6.5,12Z\"/>\n",
              "  </svg>\n",
              "    </button>\n",
              "    <script>\n",
              "      (() => {\n",
              "      const buttonEl =\n",
              "        document.querySelector('#id_401fb6fa-a553-4188-8fc2-d4ab1619dbfd button.colab-df-generate');\n",
              "      buttonEl.style.display =\n",
              "        google.colab.kernel.accessAllowed ? 'block' : 'none';\n",
              "\n",
              "      buttonEl.onclick = () => {\n",
              "        google.colab.notebook.generateWithVariable('merged_data');\n",
              "      }\n",
              "      })();\n",
              "    </script>\n",
              "  </div>\n",
              "\n",
              "    </div>\n",
              "  </div>\n"
            ],
            "application/vnd.google.colaboratory.intrinsic+json": {
              "type": "dataframe",
              "variable_name": "merged_data",
              "summary": "{\n  \"name\": \"merged_data\",\n  \"rows\": 70704,\n  \"fields\": [\n    {\n      \"column\": \"Unnamed: 0\",\n      \"properties\": {\n        \"dtype\": \"number\",\n        \"std\": 17874.908671095356,\n        \"min\": 0.0,\n        \"max\": 61919.0,\n        \"num_unique_values\": 61920,\n        \"samples\": [\n          37618.0,\n          9135.0,\n          9773.0\n        ],\n        \"semantic_type\": \"\",\n        \"description\": \"\"\n      }\n    },\n    {\n      \"column\": \"altitude\",\n      \"properties\": {\n        \"dtype\": \"number\",\n        \"std\": 136.43549754086905,\n        \"min\": -1010.0,\n        \"max\": 6965.0,\n        \"num_unique_values\": 1360,\n        \"samples\": [\n          271.0,\n          -482.0,\n          521.0\n        ],\n        \"semantic_type\": \"\",\n        \"description\": \"\"\n      }\n    },\n    {\n      \"column\": \"date_time\",\n      \"properties\": {\n        \"dtype\": \"date\",\n        \"min\": \"2013-08-15 00:01:08+00:00\",\n        \"max\": \"2014-04-30 23:59:34+00:00\",\n        \"num_unique_values\": 61837,\n        \"samples\": [\n          \"2014-01-12 19:06:07+00:00\",\n          \"2013-11-22 20:08:38+00:00\",\n          \"2013-11-01 08:27:11+00:00\"\n        ],\n        \"semantic_type\": \"\",\n        \"description\": \"\"\n      }\n    },\n    {\n      \"column\": \"device_info_serial\",\n      \"properties\": {\n        \"dtype\": \"number\",\n        \"std\": 12.835869859736867,\n        \"min\": 833.0,\n        \"max\": 864.0,\n        \"num_unique_values\": 3,\n        \"samples\": [\n          851.0,\n          833.0,\n          864.0\n        ],\n        \"semantic_type\": \"\",\n        \"description\": \"\"\n      }\n    },\n    {\n      \"column\": \"direction\",\n      \"properties\": {\n        \"dtype\": \"number\",\n        \"std\": 102.7763758736127,\n        \"min\": -179.997929221463,\n        \"max\": 180.0,\n        \"num_unique_values\": 61468,\n        \"samples\": [\n          -141.600539719098,\n          166.396540175112,\n          50.737787230014\n        ],\n        \"semantic_type\": \"\",\n        \"description\": \"\"\n      }\n    },\n    {\n      \"column\": \"latitude\",\n      \"properties\": {\n        \"dtype\": \"number\",\n        \"std\": 14.809813096249714,\n        \"min\": 12.354424,\n        \"max\": 51.5184521,\n        \"num_unique_values\": 61052,\n        \"samples\": [\n          12.8692857,\n          30.4242951,\n          50.0375069\n        ],\n        \"semantic_type\": \"\",\n        \"description\": \"\"\n      }\n    },\n    {\n      \"column\": \"longitude\",\n      \"properties\": {\n        \"dtype\": \"number\",\n        \"std\": 8.478471340003237,\n        \"min\": -17.6261451,\n        \"max\": 4.8575613,\n        \"num_unique_values\": 60893,\n        \"samples\": [\n          3.6954923,\n          -16.606291199999998,\n          -17.0841608\n        ],\n        \"semantic_type\": \"\",\n        \"description\": \"\"\n      }\n    },\n    {\n      \"column\": \"speed_2d\",\n      \"properties\": {\n        \"dtype\": \"number\",\n        \"std\": 3.5770428103245213,\n        \"min\": 0.0,\n        \"max\": 63.4880658076776,\n        \"num_unique_values\": 27277,\n        \"samples\": [\n          13.6885536124165,\n          2.3800210083106403,\n          3.18692641898115\n        ],\n        \"semantic_type\": \"\",\n        \"description\": \"\"\n      }\n    },\n    {\n      \"column\": \"bird_name\",\n      \"properties\": {\n        \"dtype\": \"category\",\n        \"num_unique_values\": 3,\n        \"samples\": [\n          \"Eric\",\n          \"Sanne\",\n          \"Nico\"\n        ],\n        \"semantic_type\": \"\",\n        \"description\": \"\"\n      }\n    },\n    {\n      \"column\": \"Date/Time\",\n      \"properties\": {\n        \"dtype\": \"date\",\n        \"min\": \"2012-01-01 00:00:00+00:00\",\n        \"max\": \"2012-12-31 23:00:00+00:00\",\n        \"num_unique_values\": 8784,\n        \"samples\": [\n          \"2012-09-23 01:00:00+00:00\",\n          \"2012-03-03 00:00:00+00:00\",\n          \"2012-09-29 11:00:00+00:00\"\n        ],\n        \"semantic_type\": \"\",\n        \"description\": \"\"\n      }\n    },\n    {\n      \"column\": \"Temp_C\",\n      \"properties\": {\n        \"dtype\": \"number\",\n        \"std\": 11.687882769691276,\n        \"min\": -23.3,\n        \"max\": 33.0,\n        \"num_unique_values\": 533,\n        \"samples\": [\n          -0.2,\n          30.1,\n          -11.2\n        ],\n        \"semantic_type\": \"\",\n        \"description\": \"\"\n      }\n    },\n    {\n      \"column\": \"Dew Point Temp_C\",\n      \"properties\": {\n        \"dtype\": \"number\",\n        \"std\": 10.883072319155795,\n        \"min\": -28.5,\n        \"max\": 24.4,\n        \"num_unique_values\": 489,\n        \"samples\": [\n          19.2,\n          -15.4,\n          17.1\n        ],\n        \"semantic_type\": \"\",\n        \"description\": \"\"\n      }\n    },\n    {\n      \"column\": \"Rel Hum_%\",\n      \"properties\": {\n        \"dtype\": \"number\",\n        \"std\": 16.91888147007662,\n        \"min\": 18.0,\n        \"max\": 100.0,\n        \"num_unique_values\": 83,\n        \"samples\": [\n          50.0,\n          86.0,\n          54.0\n        ],\n        \"semantic_type\": \"\",\n        \"description\": \"\"\n      }\n    },\n    {\n      \"column\": \"Wind Speed_km/h\",\n      \"properties\": {\n        \"dtype\": \"number\",\n        \"std\": 8.68869607946885,\n        \"min\": 0.0,\n        \"max\": 83.0,\n        \"num_unique_values\": 34,\n        \"samples\": [\n          26.0,\n          37.0,\n          46.0\n        ],\n        \"semantic_type\": \"\",\n        \"description\": \"\"\n      }\n    },\n    {\n      \"column\": \"Visibility_km\",\n      \"properties\": {\n        \"dtype\": \"number\",\n        \"std\": 12.62268824517149,\n        \"min\": 0.2,\n        \"max\": 48.3,\n        \"num_unique_values\": 24,\n        \"samples\": [\n          19.3,\n          2.0,\n          8.0\n        ],\n        \"semantic_type\": \"\",\n        \"description\": \"\"\n      }\n    },\n    {\n      \"column\": \"Press_kPa\",\n      \"properties\": {\n        \"dtype\": \"number\",\n        \"std\": 0.8440047459486483,\n        \"min\": 97.52,\n        \"max\": 103.65,\n        \"num_unique_values\": 518,\n        \"samples\": [\n          98.44,\n          101.05,\n          101.15\n        ],\n        \"semantic_type\": \"\",\n        \"description\": \"\"\n      }\n    },\n    {\n      \"column\": \"Weather\",\n      \"properties\": {\n        \"dtype\": \"category\",\n        \"num_unique_values\": 50,\n        \"samples\": [\n          \"Rain,Snow\",\n          \"Rain,Snow,Fog\",\n          \"Thunderstorms,Rain Showers\"\n        ],\n        \"semantic_type\": \"\",\n        \"description\": \"\"\n      }\n    }\n  ]\n}"
            }
          },
          "metadata": {},
          "execution_count": 19
        }
      ],
      "source": [
        "merged_data"
      ]
    },
    {
      "cell_type": "code",
      "execution_count": null,
      "metadata": {
        "id": "5ThE7AVSxhBO"
      },
      "outputs": [],
      "source": [
        "data = pd.merge(merged_data, weather_data, left_on=['date_time', 'latitude', 'longitude'], right_on=['Date_Time', 'latitude', 'longitude'], how='outer')\n"
      ]
    },
    {
      "cell_type": "code",
      "execution_count": null,
      "metadata": {
        "colab": {
          "base_uri": "https://localhost:8080/",
          "height": 634
        },
        "id": "CHEo1TOiyJYY",
        "outputId": "b7d34276-17eb-468f-ee5b-0edd950909b9"
      },
      "outputs": [
        {
          "output_type": "execute_result",
          "data": {
            "text/plain": [
              "        Unnamed: 0  altitude                 date_time  device_info_serial  \\\n",
              "0              0.0      71.0 2013-08-15 00:18:08+00:00               851.0   \n",
              "1              1.0      68.0 2013-08-15 00:48:07+00:00               851.0   \n",
              "2              2.0      68.0 2013-08-15 01:17:58+00:00               851.0   \n",
              "3              3.0      73.0 2013-08-15 01:47:51+00:00               851.0   \n",
              "4              4.0      69.0 2013-08-15 02:17:42+00:00               851.0   \n",
              "...            ...       ...                       ...                 ...   \n",
              "131133         NaN       NaN                       NaT                 NaN   \n",
              "131134         NaN       NaN                       NaT                 NaN   \n",
              "131135         NaN       NaN                       NaT                 NaN   \n",
              "131136         NaN       NaN                       NaT                 NaN   \n",
              "131137         NaN       NaN                       NaT                 NaN   \n",
              "\n",
              "         direction   latitude  longitude  speed_2d bird_name Date/Time  ...  \\\n",
              "0      -150.469753  49.419860   2.120733  0.150000      Eric       NaT  ...   \n",
              "1      -136.151141  49.419880   2.120746  2.438360      Eric       NaT  ...   \n",
              "2       160.797477  49.420310   2.120885  0.596657      Eric       NaT  ...   \n",
              "3        32.769360  49.420359   2.120859  0.310161      Eric       NaT  ...   \n",
              "4        45.191230  49.420331   2.120887  0.193132      Eric       NaT  ...   \n",
              "...            ...        ...        ...       ...       ...       ...  ...   \n",
              "131133         NaN  30.227762  -8.953367       NaN       NaN       NaT  ...   \n",
              "131134         NaN  30.227762  -8.953367       NaN       NaN       NaT  ...   \n",
              "131135         NaN  30.227762  -8.953367       NaN       NaN       NaT  ...   \n",
              "131136         NaN  30.227762  -8.953367       NaN       NaN       NaT  ...   \n",
              "131137         NaN  30.227762  -8.953367       NaN       NaN       NaT  ...   \n",
              "\n",
              "        Wind Speed_km/h  Visibility_km  Press_kPa  Weather     Location  \\\n",
              "0                   NaN            NaN        NaN      NaN          NaN   \n",
              "1                   NaN            NaN        NaN      NaN          NaN   \n",
              "2                   NaN            NaN        NaN      NaN          NaN   \n",
              "3                   NaN            NaN        NaN      NaN          NaN   \n",
              "4                   NaN            NaN        NaN      NaN          NaN   \n",
              "...                 ...            ...        ...      ...          ...   \n",
              "131133              NaN            NaN        NaN      NaN      Chicago   \n",
              "131134              NaN            NaN        NaN      NaN  Los Angeles   \n",
              "131135              NaN            NaN        NaN      NaN  Los Angeles   \n",
              "131136              NaN            NaN        NaN      NaN      Phoenix   \n",
              "131137              NaN            NaN        NaN      NaN         Phil   \n",
              "\n",
              "                       Date_Time Temperature_C Humidity_pct Precipitation_mm  \\\n",
              "0                            NaT           NaN          NaN              NaN   \n",
              "1                            NaT           NaN          NaN              NaN   \n",
              "2                            NaT           NaN          NaN              NaN   \n",
              "3                            NaT           NaN          NaN              NaN   \n",
              "4                            NaT           NaN          NaN              NaN   \n",
              "...                          ...           ...          ...              ...   \n",
              "131133 2024-03-04 15:06:58+00:00     39.714940    69.326650         3.238741   \n",
              "131134 2024-02-28 13:14:31+00:00     24.829764    81.090174         3.707233   \n",
              "131135 2024-02-19 04:12:45+00:00     27.926432    47.228386         7.434939   \n",
              "131136 2024-02-29 05:22:24+00:00     -6.548643    40.728999        10.899950   \n",
              "131137 2024-02-29 05:22:24+00:00     -6.548643    40.728999        10.899950   \n",
              "\n",
              "        Wind_Speed_kmh  \n",
              "0                  NaN  \n",
              "1                  NaN  \n",
              "2                  NaN  \n",
              "3                  NaN  \n",
              "4                  NaN  \n",
              "...                ...  \n",
              "131133       12.494146  \n",
              "131134       28.532216  \n",
              "131135       23.041288  \n",
              "131136        7.524518  \n",
              "131137        7.524518  \n",
              "\n",
              "[131138 rows x 23 columns]"
            ],
            "text/html": [
              "\n",
              "  <div id=\"df-559d7387-8aa5-41a4-963c-15e0fb104c91\" class=\"colab-df-container\">\n",
              "    <div>\n",
              "<style scoped>\n",
              "    .dataframe tbody tr th:only-of-type {\n",
              "        vertical-align: middle;\n",
              "    }\n",
              "\n",
              "    .dataframe tbody tr th {\n",
              "        vertical-align: top;\n",
              "    }\n",
              "\n",
              "    .dataframe thead th {\n",
              "        text-align: right;\n",
              "    }\n",
              "</style>\n",
              "<table border=\"1\" class=\"dataframe\">\n",
              "  <thead>\n",
              "    <tr style=\"text-align: right;\">\n",
              "      <th></th>\n",
              "      <th>Unnamed: 0</th>\n",
              "      <th>altitude</th>\n",
              "      <th>date_time</th>\n",
              "      <th>device_info_serial</th>\n",
              "      <th>direction</th>\n",
              "      <th>latitude</th>\n",
              "      <th>longitude</th>\n",
              "      <th>speed_2d</th>\n",
              "      <th>bird_name</th>\n",
              "      <th>Date/Time</th>\n",
              "      <th>...</th>\n",
              "      <th>Wind Speed_km/h</th>\n",
              "      <th>Visibility_km</th>\n",
              "      <th>Press_kPa</th>\n",
              "      <th>Weather</th>\n",
              "      <th>Location</th>\n",
              "      <th>Date_Time</th>\n",
              "      <th>Temperature_C</th>\n",
              "      <th>Humidity_pct</th>\n",
              "      <th>Precipitation_mm</th>\n",
              "      <th>Wind_Speed_kmh</th>\n",
              "    </tr>\n",
              "  </thead>\n",
              "  <tbody>\n",
              "    <tr>\n",
              "      <th>0</th>\n",
              "      <td>0.0</td>\n",
              "      <td>71.0</td>\n",
              "      <td>2013-08-15 00:18:08+00:00</td>\n",
              "      <td>851.0</td>\n",
              "      <td>-150.469753</td>\n",
              "      <td>49.419860</td>\n",
              "      <td>2.120733</td>\n",
              "      <td>0.150000</td>\n",
              "      <td>Eric</td>\n",
              "      <td>NaT</td>\n",
              "      <td>...</td>\n",
              "      <td>NaN</td>\n",
              "      <td>NaN</td>\n",
              "      <td>NaN</td>\n",
              "      <td>NaN</td>\n",
              "      <td>NaN</td>\n",
              "      <td>NaT</td>\n",
              "      <td>NaN</td>\n",
              "      <td>NaN</td>\n",
              "      <td>NaN</td>\n",
              "      <td>NaN</td>\n",
              "    </tr>\n",
              "    <tr>\n",
              "      <th>1</th>\n",
              "      <td>1.0</td>\n",
              "      <td>68.0</td>\n",
              "      <td>2013-08-15 00:48:07+00:00</td>\n",
              "      <td>851.0</td>\n",
              "      <td>-136.151141</td>\n",
              "      <td>49.419880</td>\n",
              "      <td>2.120746</td>\n",
              "      <td>2.438360</td>\n",
              "      <td>Eric</td>\n",
              "      <td>NaT</td>\n",
              "      <td>...</td>\n",
              "      <td>NaN</td>\n",
              "      <td>NaN</td>\n",
              "      <td>NaN</td>\n",
              "      <td>NaN</td>\n",
              "      <td>NaN</td>\n",
              "      <td>NaT</td>\n",
              "      <td>NaN</td>\n",
              "      <td>NaN</td>\n",
              "      <td>NaN</td>\n",
              "      <td>NaN</td>\n",
              "    </tr>\n",
              "    <tr>\n",
              "      <th>2</th>\n",
              "      <td>2.0</td>\n",
              "      <td>68.0</td>\n",
              "      <td>2013-08-15 01:17:58+00:00</td>\n",
              "      <td>851.0</td>\n",
              "      <td>160.797477</td>\n",
              "      <td>49.420310</td>\n",
              "      <td>2.120885</td>\n",
              "      <td>0.596657</td>\n",
              "      <td>Eric</td>\n",
              "      <td>NaT</td>\n",
              "      <td>...</td>\n",
              "      <td>NaN</td>\n",
              "      <td>NaN</td>\n",
              "      <td>NaN</td>\n",
              "      <td>NaN</td>\n",
              "      <td>NaN</td>\n",
              "      <td>NaT</td>\n",
              "      <td>NaN</td>\n",
              "      <td>NaN</td>\n",
              "      <td>NaN</td>\n",
              "      <td>NaN</td>\n",
              "    </tr>\n",
              "    <tr>\n",
              "      <th>3</th>\n",
              "      <td>3.0</td>\n",
              "      <td>73.0</td>\n",
              "      <td>2013-08-15 01:47:51+00:00</td>\n",
              "      <td>851.0</td>\n",
              "      <td>32.769360</td>\n",
              "      <td>49.420359</td>\n",
              "      <td>2.120859</td>\n",
              "      <td>0.310161</td>\n",
              "      <td>Eric</td>\n",
              "      <td>NaT</td>\n",
              "      <td>...</td>\n",
              "      <td>NaN</td>\n",
              "      <td>NaN</td>\n",
              "      <td>NaN</td>\n",
              "      <td>NaN</td>\n",
              "      <td>NaN</td>\n",
              "      <td>NaT</td>\n",
              "      <td>NaN</td>\n",
              "      <td>NaN</td>\n",
              "      <td>NaN</td>\n",
              "      <td>NaN</td>\n",
              "    </tr>\n",
              "    <tr>\n",
              "      <th>4</th>\n",
              "      <td>4.0</td>\n",
              "      <td>69.0</td>\n",
              "      <td>2013-08-15 02:17:42+00:00</td>\n",
              "      <td>851.0</td>\n",
              "      <td>45.191230</td>\n",
              "      <td>49.420331</td>\n",
              "      <td>2.120887</td>\n",
              "      <td>0.193132</td>\n",
              "      <td>Eric</td>\n",
              "      <td>NaT</td>\n",
              "      <td>...</td>\n",
              "      <td>NaN</td>\n",
              "      <td>NaN</td>\n",
              "      <td>NaN</td>\n",
              "      <td>NaN</td>\n",
              "      <td>NaN</td>\n",
              "      <td>NaT</td>\n",
              "      <td>NaN</td>\n",
              "      <td>NaN</td>\n",
              "      <td>NaN</td>\n",
              "      <td>NaN</td>\n",
              "    </tr>\n",
              "    <tr>\n",
              "      <th>...</th>\n",
              "      <td>...</td>\n",
              "      <td>...</td>\n",
              "      <td>...</td>\n",
              "      <td>...</td>\n",
              "      <td>...</td>\n",
              "      <td>...</td>\n",
              "      <td>...</td>\n",
              "      <td>...</td>\n",
              "      <td>...</td>\n",
              "      <td>...</td>\n",
              "      <td>...</td>\n",
              "      <td>...</td>\n",
              "      <td>...</td>\n",
              "      <td>...</td>\n",
              "      <td>...</td>\n",
              "      <td>...</td>\n",
              "      <td>...</td>\n",
              "      <td>...</td>\n",
              "      <td>...</td>\n",
              "      <td>...</td>\n",
              "      <td>...</td>\n",
              "    </tr>\n",
              "    <tr>\n",
              "      <th>131133</th>\n",
              "      <td>NaN</td>\n",
              "      <td>NaN</td>\n",
              "      <td>NaT</td>\n",
              "      <td>NaN</td>\n",
              "      <td>NaN</td>\n",
              "      <td>30.227762</td>\n",
              "      <td>-8.953367</td>\n",
              "      <td>NaN</td>\n",
              "      <td>NaN</td>\n",
              "      <td>NaT</td>\n",
              "      <td>...</td>\n",
              "      <td>NaN</td>\n",
              "      <td>NaN</td>\n",
              "      <td>NaN</td>\n",
              "      <td>NaN</td>\n",
              "      <td>Chicago</td>\n",
              "      <td>2024-03-04 15:06:58+00:00</td>\n",
              "      <td>39.714940</td>\n",
              "      <td>69.326650</td>\n",
              "      <td>3.238741</td>\n",
              "      <td>12.494146</td>\n",
              "    </tr>\n",
              "    <tr>\n",
              "      <th>131134</th>\n",
              "      <td>NaN</td>\n",
              "      <td>NaN</td>\n",
              "      <td>NaT</td>\n",
              "      <td>NaN</td>\n",
              "      <td>NaN</td>\n",
              "      <td>30.227762</td>\n",
              "      <td>-8.953367</td>\n",
              "      <td>NaN</td>\n",
              "      <td>NaN</td>\n",
              "      <td>NaT</td>\n",
              "      <td>...</td>\n",
              "      <td>NaN</td>\n",
              "      <td>NaN</td>\n",
              "      <td>NaN</td>\n",
              "      <td>NaN</td>\n",
              "      <td>Los Angeles</td>\n",
              "      <td>2024-02-28 13:14:31+00:00</td>\n",
              "      <td>24.829764</td>\n",
              "      <td>81.090174</td>\n",
              "      <td>3.707233</td>\n",
              "      <td>28.532216</td>\n",
              "    </tr>\n",
              "    <tr>\n",
              "      <th>131135</th>\n",
              "      <td>NaN</td>\n",
              "      <td>NaN</td>\n",
              "      <td>NaT</td>\n",
              "      <td>NaN</td>\n",
              "      <td>NaN</td>\n",
              "      <td>30.227762</td>\n",
              "      <td>-8.953367</td>\n",
              "      <td>NaN</td>\n",
              "      <td>NaN</td>\n",
              "      <td>NaT</td>\n",
              "      <td>...</td>\n",
              "      <td>NaN</td>\n",
              "      <td>NaN</td>\n",
              "      <td>NaN</td>\n",
              "      <td>NaN</td>\n",
              "      <td>Los Angeles</td>\n",
              "      <td>2024-02-19 04:12:45+00:00</td>\n",
              "      <td>27.926432</td>\n",
              "      <td>47.228386</td>\n",
              "      <td>7.434939</td>\n",
              "      <td>23.041288</td>\n",
              "    </tr>\n",
              "    <tr>\n",
              "      <th>131136</th>\n",
              "      <td>NaN</td>\n",
              "      <td>NaN</td>\n",
              "      <td>NaT</td>\n",
              "      <td>NaN</td>\n",
              "      <td>NaN</td>\n",
              "      <td>30.227762</td>\n",
              "      <td>-8.953367</td>\n",
              "      <td>NaN</td>\n",
              "      <td>NaN</td>\n",
              "      <td>NaT</td>\n",
              "      <td>...</td>\n",
              "      <td>NaN</td>\n",
              "      <td>NaN</td>\n",
              "      <td>NaN</td>\n",
              "      <td>NaN</td>\n",
              "      <td>Phoenix</td>\n",
              "      <td>2024-02-29 05:22:24+00:00</td>\n",
              "      <td>-6.548643</td>\n",
              "      <td>40.728999</td>\n",
              "      <td>10.899950</td>\n",
              "      <td>7.524518</td>\n",
              "    </tr>\n",
              "    <tr>\n",
              "      <th>131137</th>\n",
              "      <td>NaN</td>\n",
              "      <td>NaN</td>\n",
              "      <td>NaT</td>\n",
              "      <td>NaN</td>\n",
              "      <td>NaN</td>\n",
              "      <td>30.227762</td>\n",
              "      <td>-8.953367</td>\n",
              "      <td>NaN</td>\n",
              "      <td>NaN</td>\n",
              "      <td>NaT</td>\n",
              "      <td>...</td>\n",
              "      <td>NaN</td>\n",
              "      <td>NaN</td>\n",
              "      <td>NaN</td>\n",
              "      <td>NaN</td>\n",
              "      <td>Phil</td>\n",
              "      <td>2024-02-29 05:22:24+00:00</td>\n",
              "      <td>-6.548643</td>\n",
              "      <td>40.728999</td>\n",
              "      <td>10.899950</td>\n",
              "      <td>7.524518</td>\n",
              "    </tr>\n",
              "  </tbody>\n",
              "</table>\n",
              "<p>131138 rows × 23 columns</p>\n",
              "</div>\n",
              "    <div class=\"colab-df-buttons\">\n",
              "\n",
              "  <div class=\"colab-df-container\">\n",
              "    <button class=\"colab-df-convert\" onclick=\"convertToInteractive('df-559d7387-8aa5-41a4-963c-15e0fb104c91')\"\n",
              "            title=\"Convert this dataframe to an interactive table.\"\n",
              "            style=\"display:none;\">\n",
              "\n",
              "  <svg xmlns=\"http://www.w3.org/2000/svg\" height=\"24px\" viewBox=\"0 -960 960 960\">\n",
              "    <path d=\"M120-120v-720h720v720H120Zm60-500h600v-160H180v160Zm220 220h160v-160H400v160Zm0 220h160v-160H400v160ZM180-400h160v-160H180v160Zm440 0h160v-160H620v160ZM180-180h160v-160H180v160Zm440 0h160v-160H620v160Z\"/>\n",
              "  </svg>\n",
              "    </button>\n",
              "\n",
              "  <style>\n",
              "    .colab-df-container {\n",
              "      display:flex;\n",
              "      gap: 12px;\n",
              "    }\n",
              "\n",
              "    .colab-df-convert {\n",
              "      background-color: #E8F0FE;\n",
              "      border: none;\n",
              "      border-radius: 50%;\n",
              "      cursor: pointer;\n",
              "      display: none;\n",
              "      fill: #1967D2;\n",
              "      height: 32px;\n",
              "      padding: 0 0 0 0;\n",
              "      width: 32px;\n",
              "    }\n",
              "\n",
              "    .colab-df-convert:hover {\n",
              "      background-color: #E2EBFA;\n",
              "      box-shadow: 0px 1px 2px rgba(60, 64, 67, 0.3), 0px 1px 3px 1px rgba(60, 64, 67, 0.15);\n",
              "      fill: #174EA6;\n",
              "    }\n",
              "\n",
              "    .colab-df-buttons div {\n",
              "      margin-bottom: 4px;\n",
              "    }\n",
              "\n",
              "    [theme=dark] .colab-df-convert {\n",
              "      background-color: #3B4455;\n",
              "      fill: #D2E3FC;\n",
              "    }\n",
              "\n",
              "    [theme=dark] .colab-df-convert:hover {\n",
              "      background-color: #434B5C;\n",
              "      box-shadow: 0px 1px 3px 1px rgba(0, 0, 0, 0.15);\n",
              "      filter: drop-shadow(0px 1px 2px rgba(0, 0, 0, 0.3));\n",
              "      fill: #FFFFFF;\n",
              "    }\n",
              "  </style>\n",
              "\n",
              "    <script>\n",
              "      const buttonEl =\n",
              "        document.querySelector('#df-559d7387-8aa5-41a4-963c-15e0fb104c91 button.colab-df-convert');\n",
              "      buttonEl.style.display =\n",
              "        google.colab.kernel.accessAllowed ? 'block' : 'none';\n",
              "\n",
              "      async function convertToInteractive(key) {\n",
              "        const element = document.querySelector('#df-559d7387-8aa5-41a4-963c-15e0fb104c91');\n",
              "        const dataTable =\n",
              "          await google.colab.kernel.invokeFunction('convertToInteractive',\n",
              "                                                    [key], {});\n",
              "        if (!dataTable) return;\n",
              "\n",
              "        const docLinkHtml = 'Like what you see? Visit the ' +\n",
              "          '<a target=\"_blank\" href=https://colab.research.google.com/notebooks/data_table.ipynb>data table notebook</a>'\n",
              "          + ' to learn more about interactive tables.';\n",
              "        element.innerHTML = '';\n",
              "        dataTable['output_type'] = 'display_data';\n",
              "        await google.colab.output.renderOutput(dataTable, element);\n",
              "        const docLink = document.createElement('div');\n",
              "        docLink.innerHTML = docLinkHtml;\n",
              "        element.appendChild(docLink);\n",
              "      }\n",
              "    </script>\n",
              "  </div>\n",
              "\n",
              "\n",
              "<div id=\"df-ab158488-0b77-4b31-9ba1-9c1060f1cb45\">\n",
              "  <button class=\"colab-df-quickchart\" onclick=\"quickchart('df-ab158488-0b77-4b31-9ba1-9c1060f1cb45')\"\n",
              "            title=\"Suggest charts\"\n",
              "            style=\"display:none;\">\n",
              "\n",
              "<svg xmlns=\"http://www.w3.org/2000/svg\" height=\"24px\"viewBox=\"0 0 24 24\"\n",
              "     width=\"24px\">\n",
              "    <g>\n",
              "        <path d=\"M19 3H5c-1.1 0-2 .9-2 2v14c0 1.1.9 2 2 2h14c1.1 0 2-.9 2-2V5c0-1.1-.9-2-2-2zM9 17H7v-7h2v7zm4 0h-2V7h2v10zm4 0h-2v-4h2v4z\"/>\n",
              "    </g>\n",
              "</svg>\n",
              "  </button>\n",
              "\n",
              "<style>\n",
              "  .colab-df-quickchart {\n",
              "      --bg-color: #E8F0FE;\n",
              "      --fill-color: #1967D2;\n",
              "      --hover-bg-color: #E2EBFA;\n",
              "      --hover-fill-color: #174EA6;\n",
              "      --disabled-fill-color: #AAA;\n",
              "      --disabled-bg-color: #DDD;\n",
              "  }\n",
              "\n",
              "  [theme=dark] .colab-df-quickchart {\n",
              "      --bg-color: #3B4455;\n",
              "      --fill-color: #D2E3FC;\n",
              "      --hover-bg-color: #434B5C;\n",
              "      --hover-fill-color: #FFFFFF;\n",
              "      --disabled-bg-color: #3B4455;\n",
              "      --disabled-fill-color: #666;\n",
              "  }\n",
              "\n",
              "  .colab-df-quickchart {\n",
              "    background-color: var(--bg-color);\n",
              "    border: none;\n",
              "    border-radius: 50%;\n",
              "    cursor: pointer;\n",
              "    display: none;\n",
              "    fill: var(--fill-color);\n",
              "    height: 32px;\n",
              "    padding: 0;\n",
              "    width: 32px;\n",
              "  }\n",
              "\n",
              "  .colab-df-quickchart:hover {\n",
              "    background-color: var(--hover-bg-color);\n",
              "    box-shadow: 0 1px 2px rgba(60, 64, 67, 0.3), 0 1px 3px 1px rgba(60, 64, 67, 0.15);\n",
              "    fill: var(--button-hover-fill-color);\n",
              "  }\n",
              "\n",
              "  .colab-df-quickchart-complete:disabled,\n",
              "  .colab-df-quickchart-complete:disabled:hover {\n",
              "    background-color: var(--disabled-bg-color);\n",
              "    fill: var(--disabled-fill-color);\n",
              "    box-shadow: none;\n",
              "  }\n",
              "\n",
              "  .colab-df-spinner {\n",
              "    border: 2px solid var(--fill-color);\n",
              "    border-color: transparent;\n",
              "    border-bottom-color: var(--fill-color);\n",
              "    animation:\n",
              "      spin 1s steps(1) infinite;\n",
              "  }\n",
              "\n",
              "  @keyframes spin {\n",
              "    0% {\n",
              "      border-color: transparent;\n",
              "      border-bottom-color: var(--fill-color);\n",
              "      border-left-color: var(--fill-color);\n",
              "    }\n",
              "    20% {\n",
              "      border-color: transparent;\n",
              "      border-left-color: var(--fill-color);\n",
              "      border-top-color: var(--fill-color);\n",
              "    }\n",
              "    30% {\n",
              "      border-color: transparent;\n",
              "      border-left-color: var(--fill-color);\n",
              "      border-top-color: var(--fill-color);\n",
              "      border-right-color: var(--fill-color);\n",
              "    }\n",
              "    40% {\n",
              "      border-color: transparent;\n",
              "      border-right-color: var(--fill-color);\n",
              "      border-top-color: var(--fill-color);\n",
              "    }\n",
              "    60% {\n",
              "      border-color: transparent;\n",
              "      border-right-color: var(--fill-color);\n",
              "    }\n",
              "    80% {\n",
              "      border-color: transparent;\n",
              "      border-right-color: var(--fill-color);\n",
              "      border-bottom-color: var(--fill-color);\n",
              "    }\n",
              "    90% {\n",
              "      border-color: transparent;\n",
              "      border-bottom-color: var(--fill-color);\n",
              "    }\n",
              "  }\n",
              "</style>\n",
              "\n",
              "  <script>\n",
              "    async function quickchart(key) {\n",
              "      const quickchartButtonEl =\n",
              "        document.querySelector('#' + key + ' button');\n",
              "      quickchartButtonEl.disabled = true;  // To prevent multiple clicks.\n",
              "      quickchartButtonEl.classList.add('colab-df-spinner');\n",
              "      try {\n",
              "        const charts = await google.colab.kernel.invokeFunction(\n",
              "            'suggestCharts', [key], {});\n",
              "      } catch (error) {\n",
              "        console.error('Error during call to suggestCharts:', error);\n",
              "      }\n",
              "      quickchartButtonEl.classList.remove('colab-df-spinner');\n",
              "      quickchartButtonEl.classList.add('colab-df-quickchart-complete');\n",
              "    }\n",
              "    (() => {\n",
              "      let quickchartButtonEl =\n",
              "        document.querySelector('#df-ab158488-0b77-4b31-9ba1-9c1060f1cb45 button');\n",
              "      quickchartButtonEl.style.display =\n",
              "        google.colab.kernel.accessAllowed ? 'block' : 'none';\n",
              "    })();\n",
              "  </script>\n",
              "</div>\n",
              "\n",
              "  <div id=\"id_70974e79-81ba-4bad-b1b1-631c071ea6b3\">\n",
              "    <style>\n",
              "      .colab-df-generate {\n",
              "        background-color: #E8F0FE;\n",
              "        border: none;\n",
              "        border-radius: 50%;\n",
              "        cursor: pointer;\n",
              "        display: none;\n",
              "        fill: #1967D2;\n",
              "        height: 32px;\n",
              "        padding: 0 0 0 0;\n",
              "        width: 32px;\n",
              "      }\n",
              "\n",
              "      .colab-df-generate:hover {\n",
              "        background-color: #E2EBFA;\n",
              "        box-shadow: 0px 1px 2px rgba(60, 64, 67, 0.3), 0px 1px 3px 1px rgba(60, 64, 67, 0.15);\n",
              "        fill: #174EA6;\n",
              "      }\n",
              "\n",
              "      [theme=dark] .colab-df-generate {\n",
              "        background-color: #3B4455;\n",
              "        fill: #D2E3FC;\n",
              "      }\n",
              "\n",
              "      [theme=dark] .colab-df-generate:hover {\n",
              "        background-color: #434B5C;\n",
              "        box-shadow: 0px 1px 3px 1px rgba(0, 0, 0, 0.15);\n",
              "        filter: drop-shadow(0px 1px 2px rgba(0, 0, 0, 0.3));\n",
              "        fill: #FFFFFF;\n",
              "      }\n",
              "    </style>\n",
              "    <button class=\"colab-df-generate\" onclick=\"generateWithVariable('data')\"\n",
              "            title=\"Generate code using this dataframe.\"\n",
              "            style=\"display:none;\">\n",
              "\n",
              "  <svg xmlns=\"http://www.w3.org/2000/svg\" height=\"24px\"viewBox=\"0 0 24 24\"\n",
              "       width=\"24px\">\n",
              "    <path d=\"M7,19H8.4L18.45,9,17,7.55,7,17.6ZM5,21V16.75L18.45,3.32a2,2,0,0,1,2.83,0l1.4,1.43a1.91,1.91,0,0,1,.58,1.4,1.91,1.91,0,0,1-.58,1.4L9.25,21ZM18.45,9,17,7.55Zm-12,3A5.31,5.31,0,0,0,4.9,8.1,5.31,5.31,0,0,0,1,6.5,5.31,5.31,0,0,0,4.9,4.9,5.31,5.31,0,0,0,6.5,1,5.31,5.31,0,0,0,8.1,4.9,5.31,5.31,0,0,0,12,6.5,5.46,5.46,0,0,0,6.5,12Z\"/>\n",
              "  </svg>\n",
              "    </button>\n",
              "    <script>\n",
              "      (() => {\n",
              "      const buttonEl =\n",
              "        document.querySelector('#id_70974e79-81ba-4bad-b1b1-631c071ea6b3 button.colab-df-generate');\n",
              "      buttonEl.style.display =\n",
              "        google.colab.kernel.accessAllowed ? 'block' : 'none';\n",
              "\n",
              "      buttonEl.onclick = () => {\n",
              "        google.colab.notebook.generateWithVariable('data');\n",
              "      }\n",
              "      })();\n",
              "    </script>\n",
              "  </div>\n",
              "\n",
              "    </div>\n",
              "  </div>\n"
            ],
            "application/vnd.google.colaboratory.intrinsic+json": {
              "type": "dataframe",
              "variable_name": "data"
            }
          },
          "metadata": {},
          "execution_count": 21
        }
      ],
      "source": [
        "data"
      ]
    },
    {
      "cell_type": "code",
      "execution_count": null,
      "metadata": {
        "colab": {
          "base_uri": "https://localhost:8080/"
        },
        "id": "qMXlw-fzxoNJ",
        "outputId": "a2417fc4-b9dc-4973-8538-ab222bae4d18"
      },
      "outputs": [
        {
          "output_type": "execute_result",
          "data": {
            "text/plain": [
              "Index(['Unnamed: 0', 'altitude', 'date_time', 'device_info_serial',\n",
              "       'direction', 'latitude', 'longitude', 'speed_2d', 'bird_name',\n",
              "       'Date/Time', 'Temp_C', 'Dew Point Temp_C', 'Rel Hum_%',\n",
              "       'Wind Speed_km/h', 'Visibility_km', 'Press_kPa', 'Weather', 'Location',\n",
              "       'Date_Time', 'Temperature_C', 'Humidity_pct', 'Precipitation_mm',\n",
              "       'Wind_Speed_kmh'],\n",
              "      dtype='object')"
            ]
          },
          "metadata": {},
          "execution_count": 22
        }
      ],
      "source": [
        "data.columns"
      ]
    },
    {
      "cell_type": "code",
      "execution_count": null,
      "metadata": {
        "id": "VterYDYvyTHw"
      },
      "outputs": [],
      "source": [
        "data.drop(columns=['Unnamed: 0', 'device_info_serial', 'bird_name', 'Date/Time', 'Date_Time', 'Location'], inplace=True)\n"
      ]
    },
    {
      "cell_type": "code",
      "execution_count": null,
      "metadata": {
        "colab": {
          "base_uri": "https://localhost:8080/"
        },
        "id": "phXEPvEbyUrY",
        "outputId": "5f1769da-798f-4335-935e-ecc23dfbe1a6"
      },
      "outputs": [
        {
          "output_type": "execute_result",
          "data": {
            "text/plain": [
              "Index(['altitude', 'date_time', 'direction', 'latitude', 'longitude',\n",
              "       'speed_2d', 'Temp_C', 'Dew Point Temp_C', 'Rel Hum_%',\n",
              "       'Wind Speed_km/h', 'Visibility_km', 'Press_kPa', 'Weather',\n",
              "       'Temperature_C', 'Humidity_pct', 'Precipitation_mm', 'Wind_Speed_kmh'],\n",
              "      dtype='object')"
            ]
          },
          "metadata": {},
          "execution_count": 24
        }
      ],
      "source": [
        "data.columns"
      ]
    },
    {
      "cell_type": "code",
      "execution_count": null,
      "metadata": {
        "colab": {
          "base_uri": "https://localhost:8080/"
        },
        "id": "B6fvwvotyal6",
        "outputId": "1da4d967-1165-4394-d04e-92c02e91f99c"
      },
      "outputs": [
        {
          "output_type": "stream",
          "name": "stdout",
          "text": [
            "\n",
            "Merged Data:\n",
            "   altitude                 date_time   direction   latitude  longitude  \\\n",
            "0      71.0 2013-08-15 00:18:08+00:00 -150.469753  49.419860   2.120733   \n",
            "1      68.0 2013-08-15 00:48:07+00:00 -136.151141  49.419880   2.120746   \n",
            "2      68.0 2013-08-15 01:17:58+00:00  160.797477  49.420310   2.120885   \n",
            "3      73.0 2013-08-15 01:47:51+00:00   32.769360  49.420359   2.120859   \n",
            "4      69.0 2013-08-15 02:17:42+00:00   45.191230  49.420331   2.120887   \n",
            "\n",
            "   speed_2d  Temp_C  Dew Point Temp_C  Rel Hum_%  Wind Speed_km/h  \\\n",
            "0  0.150000     NaN               NaN        NaN              NaN   \n",
            "1  2.438360     NaN               NaN        NaN              NaN   \n",
            "2  0.596657     NaN               NaN        NaN              NaN   \n",
            "3  0.310161     NaN               NaN        NaN              NaN   \n",
            "4  0.193132     NaN               NaN        NaN              NaN   \n",
            "\n",
            "   Visibility_km  Press_kPa Weather  Temperature_C  Humidity_pct  \\\n",
            "0            NaN        NaN     NaN            NaN           NaN   \n",
            "1            NaN        NaN     NaN            NaN           NaN   \n",
            "2            NaN        NaN     NaN            NaN           NaN   \n",
            "3            NaN        NaN     NaN            NaN           NaN   \n",
            "4            NaN        NaN     NaN            NaN           NaN   \n",
            "\n",
            "   Precipitation_mm  Wind_Speed_kmh  \n",
            "0               NaN             NaN  \n",
            "1               NaN             NaN  \n",
            "2               NaN             NaN  \n",
            "3               NaN             NaN  \n",
            "4               NaN             NaN  \n"
          ]
        },
        {
          "output_type": "execute_result",
          "data": {
            "text/plain": [
              "(131138, 17)"
            ]
          },
          "metadata": {},
          "execution_count": 25
        }
      ],
      "source": [
        "print(\"\\nMerged Data:\")\n",
        "print(data.head())\n",
        "data.shape"
      ]
    },
    {
      "cell_type": "code",
      "execution_count": null,
      "metadata": {
        "colab": {
          "base_uri": "https://localhost:8080/"
        },
        "id": "RDUXbUdjyqWC",
        "outputId": "37033b55-d705-4f25-9f05-5935f9ea3584"
      },
      "outputs": [
        {
          "output_type": "stream",
          "name": "stdout",
          "text": [
            "altitude             69218\n",
            "date_time            69218\n",
            "direction            69218\n",
            "latitude              8784\n",
            "longitude             8784\n",
            "speed_2d             69218\n",
            "Temp_C              122354\n",
            "Dew Point Temp_C    122354\n",
            "Rel Hum_%           122354\n",
            "Wind Speed_km/h     122354\n",
            "Visibility_km       122354\n",
            "Press_kPa           122354\n",
            "Weather             122354\n",
            "Temperature_C        70704\n",
            "Humidity_pct         70704\n",
            "Precipitation_mm     70704\n",
            "Wind_Speed_kmh       70704\n",
            "dtype: int64\n"
          ]
        }
      ],
      "source": [
        "print(data.isnull().sum())"
      ]
    },
    {
      "cell_type": "code",
      "execution_count": null,
      "metadata": {
        "id": "T3sHJSs_yuMX"
      },
      "outputs": [],
      "source": [
        "data.fillna(method='ffill', inplace=True)"
      ]
    },
    {
      "cell_type": "code",
      "execution_count": null,
      "metadata": {
        "id": "5xDamvd50GOx"
      },
      "outputs": [],
      "source": [
        "merged_data_clean =data.dropna()\n"
      ]
    },
    {
      "cell_type": "code",
      "execution_count": null,
      "metadata": {
        "id": "eAu2mS3d2AOK"
      },
      "outputs": [],
      "source": [
        "merged_data_filled = data.fillna(0)  # Replace NaN with 0, adjust as needed\n"
      ]
    },
    {
      "cell_type": "code",
      "execution_count": null,
      "metadata": {
        "colab": {
          "base_uri": "https://localhost:8080/"
        },
        "id": "ikDSXg4t2F47",
        "outputId": "69d3f33d-1b18-4c51-d4f7-92e1d9856fd8"
      },
      "outputs": [
        {
          "output_type": "stream",
          "name": "stdout",
          "text": [
            "        altitude                 date_time   direction   latitude  longitude  \\\n",
            "0           71.0 2013-08-15 00:18:08+00:00 -150.469753  49.419860   2.120733   \n",
            "1           68.0 2013-08-15 00:48:07+00:00 -136.151141  49.419880   2.120746   \n",
            "2           68.0 2013-08-15 01:17:58+00:00  160.797477  49.420310   2.120885   \n",
            "3           73.0 2013-08-15 01:47:51+00:00   32.769360  49.420359   2.120859   \n",
            "4           69.0 2013-08-15 02:17:42+00:00   45.191230  49.420331   2.120887   \n",
            "...          ...                       ...         ...        ...        ...   \n",
            "131133       9.0 2014-04-30 23:59:34+00:00  149.949008  30.227762  -8.953367   \n",
            "131134       9.0 2014-04-30 23:59:34+00:00  149.949008  30.227762  -8.953367   \n",
            "131135       9.0 2014-04-30 23:59:34+00:00  149.949008  30.227762  -8.953367   \n",
            "131136       9.0 2014-04-30 23:59:34+00:00  149.949008  30.227762  -8.953367   \n",
            "131137       9.0 2014-04-30 23:59:34+00:00  149.949008  30.227762  -8.953367   \n",
            "\n",
            "        speed_2d  Temp_C  Dew Point Temp_C  Rel Hum_%  Wind Speed_km/h  \\\n",
            "0       0.150000     0.0               0.0        0.0              0.0   \n",
            "1       2.438360     0.0               0.0        0.0              0.0   \n",
            "2       0.596657     0.0               0.0        0.0              0.0   \n",
            "3       0.310161     0.0               0.0        0.0              0.0   \n",
            "4       0.193132     0.0               0.0        0.0              0.0   \n",
            "...          ...     ...               ...        ...              ...   \n",
            "131133  0.485489     0.0              -2.1       86.0             30.0   \n",
            "131134  0.485489     0.0              -2.1       86.0             30.0   \n",
            "131135  0.485489     0.0              -2.1       86.0             30.0   \n",
            "131136  0.485489     0.0              -2.1       86.0             30.0   \n",
            "131137  0.485489     0.0              -2.1       86.0             30.0   \n",
            "\n",
            "        Visibility_km  Press_kPa Weather  Temperature_C  Humidity_pct  \\\n",
            "0                 0.0       0.00       0       0.000000      0.000000   \n",
            "1                 0.0       0.00       0       0.000000      0.000000   \n",
            "2                 0.0       0.00       0       0.000000      0.000000   \n",
            "3                 0.0       0.00       0       0.000000      0.000000   \n",
            "4                 0.0       0.00       0       0.000000      0.000000   \n",
            "...               ...        ...     ...            ...           ...   \n",
            "131133           11.3      99.89    Snow      39.714940     69.326650   \n",
            "131134           11.3      99.89    Snow      24.829764     81.090174   \n",
            "131135           11.3      99.89    Snow      27.926432     47.228386   \n",
            "131136           11.3      99.89    Snow      -6.548643     40.728999   \n",
            "131137           11.3      99.89    Snow      -6.548643     40.728999   \n",
            "\n",
            "        Precipitation_mm  Wind_Speed_kmh  \n",
            "0               0.000000        0.000000  \n",
            "1               0.000000        0.000000  \n",
            "2               0.000000        0.000000  \n",
            "3               0.000000        0.000000  \n",
            "4               0.000000        0.000000  \n",
            "...                  ...             ...  \n",
            "131133          3.238741       12.494146  \n",
            "131134          3.707233       28.532216  \n",
            "131135          7.434939       23.041288  \n",
            "131136         10.899950        7.524518  \n",
            "131137         10.899950        7.524518  \n",
            "\n",
            "[131138 rows x 17 columns]\n"
          ]
        }
      ],
      "source": [
        "print(merged_data_filled)"
      ]
    },
    {
      "cell_type": "code",
      "execution_count": null,
      "metadata": {
        "colab": {
          "base_uri": "https://localhost:8080/",
          "height": 337
        },
        "id": "lIPrrkl52ppo",
        "outputId": "c03578ba-02d8-4344-aa3a-a9797c645198"
      },
      "outputs": [
        {
          "output_type": "execute_result",
          "data": {
            "text/plain": [
              "            altitude      direction       latitude      longitude  \\\n",
              "count  131138.000000  131138.000000  131138.000000  131138.000000   \n",
              "mean       29.451418      76.950740      31.642890      -8.140568   \n",
              "std        96.212494     104.615369      11.465427       6.568408   \n",
              "min     -1010.000000    -179.997929      12.354424     -17.626145   \n",
              "25%         9.000000      -0.614432      30.227762      -9.650216   \n",
              "50%         9.000000     149.949008      30.227762      -8.953367   \n",
              "75%        12.000000     149.949008      30.437749      -8.953367   \n",
              "max      6965.000000     180.000000      51.518452       4.857561   \n",
              "\n",
              "            speed_2d         Temp_C  Dew Point Temp_C      Rel Hum_%  \\\n",
              "count  131138.000000  131138.000000     131138.000000  131138.000000   \n",
              "mean        1.464405       0.589325         -0.796609      44.149247   \n",
              "std         2.666975       3.739924          3.125349      42.225533   \n",
              "min         0.000000     -23.300000        -28.500000       0.000000   \n",
              "25%         0.485489       0.000000         -2.100000       0.000000   \n",
              "50%         0.485489       0.000000          0.000000      64.000000   \n",
              "75%         1.075407       0.000000          0.000000      86.000000   \n",
              "max        63.488066      33.000000         24.400000     100.000000   \n",
              "\n",
              "       Wind Speed_km/h  Visibility_km      Press_kPa  Temperature_C  \\\n",
              "count    131138.000000  131138.000000  131138.000000  131138.000000   \n",
              "mean         14.826374       7.060567      52.802313       6.810424   \n",
              "std          14.661403       8.421918      49.942649      12.273300   \n",
              "min           0.000000       0.000000       0.000000     -19.700813   \n",
              "25%           0.000000       0.000000       0.000000       0.000000   \n",
              "50%          11.000000      11.300000      99.890000       0.000000   \n",
              "75%          30.000000      11.300000      99.890000      12.648962   \n",
              "max          83.000000      48.300000     103.650000      39.999642   \n",
              "\n",
              "        Humidity_pct  Precipitation_mm  Wind_Speed_kmh  \n",
              "count  131138.000000     131138.000000   131138.000000  \n",
              "mean       27.705499          2.356641        6.909462  \n",
              "std        32.193353          3.240085        9.519137  \n",
              "min         0.000000          0.000000        0.000000  \n",
              "25%         0.000000          0.000000        0.000000  \n",
              "50%         0.000000          0.000000        0.000000  \n",
              "75%        57.554214          4.695057       13.689828  \n",
              "max        89.999082         14.837122       29.999157  "
            ],
            "text/html": [
              "\n",
              "  <div id=\"df-84aa5a77-8113-4aa5-9ff6-c9556a0d7a27\" class=\"colab-df-container\">\n",
              "    <div>\n",
              "<style scoped>\n",
              "    .dataframe tbody tr th:only-of-type {\n",
              "        vertical-align: middle;\n",
              "    }\n",
              "\n",
              "    .dataframe tbody tr th {\n",
              "        vertical-align: top;\n",
              "    }\n",
              "\n",
              "    .dataframe thead th {\n",
              "        text-align: right;\n",
              "    }\n",
              "</style>\n",
              "<table border=\"1\" class=\"dataframe\">\n",
              "  <thead>\n",
              "    <tr style=\"text-align: right;\">\n",
              "      <th></th>\n",
              "      <th>altitude</th>\n",
              "      <th>direction</th>\n",
              "      <th>latitude</th>\n",
              "      <th>longitude</th>\n",
              "      <th>speed_2d</th>\n",
              "      <th>Temp_C</th>\n",
              "      <th>Dew Point Temp_C</th>\n",
              "      <th>Rel Hum_%</th>\n",
              "      <th>Wind Speed_km/h</th>\n",
              "      <th>Visibility_km</th>\n",
              "      <th>Press_kPa</th>\n",
              "      <th>Temperature_C</th>\n",
              "      <th>Humidity_pct</th>\n",
              "      <th>Precipitation_mm</th>\n",
              "      <th>Wind_Speed_kmh</th>\n",
              "    </tr>\n",
              "  </thead>\n",
              "  <tbody>\n",
              "    <tr>\n",
              "      <th>count</th>\n",
              "      <td>131138.000000</td>\n",
              "      <td>131138.000000</td>\n",
              "      <td>131138.000000</td>\n",
              "      <td>131138.000000</td>\n",
              "      <td>131138.000000</td>\n",
              "      <td>131138.000000</td>\n",
              "      <td>131138.000000</td>\n",
              "      <td>131138.000000</td>\n",
              "      <td>131138.000000</td>\n",
              "      <td>131138.000000</td>\n",
              "      <td>131138.000000</td>\n",
              "      <td>131138.000000</td>\n",
              "      <td>131138.000000</td>\n",
              "      <td>131138.000000</td>\n",
              "      <td>131138.000000</td>\n",
              "    </tr>\n",
              "    <tr>\n",
              "      <th>mean</th>\n",
              "      <td>29.451418</td>\n",
              "      <td>76.950740</td>\n",
              "      <td>31.642890</td>\n",
              "      <td>-8.140568</td>\n",
              "      <td>1.464405</td>\n",
              "      <td>0.589325</td>\n",
              "      <td>-0.796609</td>\n",
              "      <td>44.149247</td>\n",
              "      <td>14.826374</td>\n",
              "      <td>7.060567</td>\n",
              "      <td>52.802313</td>\n",
              "      <td>6.810424</td>\n",
              "      <td>27.705499</td>\n",
              "      <td>2.356641</td>\n",
              "      <td>6.909462</td>\n",
              "    </tr>\n",
              "    <tr>\n",
              "      <th>std</th>\n",
              "      <td>96.212494</td>\n",
              "      <td>104.615369</td>\n",
              "      <td>11.465427</td>\n",
              "      <td>6.568408</td>\n",
              "      <td>2.666975</td>\n",
              "      <td>3.739924</td>\n",
              "      <td>3.125349</td>\n",
              "      <td>42.225533</td>\n",
              "      <td>14.661403</td>\n",
              "      <td>8.421918</td>\n",
              "      <td>49.942649</td>\n",
              "      <td>12.273300</td>\n",
              "      <td>32.193353</td>\n",
              "      <td>3.240085</td>\n",
              "      <td>9.519137</td>\n",
              "    </tr>\n",
              "    <tr>\n",
              "      <th>min</th>\n",
              "      <td>-1010.000000</td>\n",
              "      <td>-179.997929</td>\n",
              "      <td>12.354424</td>\n",
              "      <td>-17.626145</td>\n",
              "      <td>0.000000</td>\n",
              "      <td>-23.300000</td>\n",
              "      <td>-28.500000</td>\n",
              "      <td>0.000000</td>\n",
              "      <td>0.000000</td>\n",
              "      <td>0.000000</td>\n",
              "      <td>0.000000</td>\n",
              "      <td>-19.700813</td>\n",
              "      <td>0.000000</td>\n",
              "      <td>0.000000</td>\n",
              "      <td>0.000000</td>\n",
              "    </tr>\n",
              "    <tr>\n",
              "      <th>25%</th>\n",
              "      <td>9.000000</td>\n",
              "      <td>-0.614432</td>\n",
              "      <td>30.227762</td>\n",
              "      <td>-9.650216</td>\n",
              "      <td>0.485489</td>\n",
              "      <td>0.000000</td>\n",
              "      <td>-2.100000</td>\n",
              "      <td>0.000000</td>\n",
              "      <td>0.000000</td>\n",
              "      <td>0.000000</td>\n",
              "      <td>0.000000</td>\n",
              "      <td>0.000000</td>\n",
              "      <td>0.000000</td>\n",
              "      <td>0.000000</td>\n",
              "      <td>0.000000</td>\n",
              "    </tr>\n",
              "    <tr>\n",
              "      <th>50%</th>\n",
              "      <td>9.000000</td>\n",
              "      <td>149.949008</td>\n",
              "      <td>30.227762</td>\n",
              "      <td>-8.953367</td>\n",
              "      <td>0.485489</td>\n",
              "      <td>0.000000</td>\n",
              "      <td>0.000000</td>\n",
              "      <td>64.000000</td>\n",
              "      <td>11.000000</td>\n",
              "      <td>11.300000</td>\n",
              "      <td>99.890000</td>\n",
              "      <td>0.000000</td>\n",
              "      <td>0.000000</td>\n",
              "      <td>0.000000</td>\n",
              "      <td>0.000000</td>\n",
              "    </tr>\n",
              "    <tr>\n",
              "      <th>75%</th>\n",
              "      <td>12.000000</td>\n",
              "      <td>149.949008</td>\n",
              "      <td>30.437749</td>\n",
              "      <td>-8.953367</td>\n",
              "      <td>1.075407</td>\n",
              "      <td>0.000000</td>\n",
              "      <td>0.000000</td>\n",
              "      <td>86.000000</td>\n",
              "      <td>30.000000</td>\n",
              "      <td>11.300000</td>\n",
              "      <td>99.890000</td>\n",
              "      <td>12.648962</td>\n",
              "      <td>57.554214</td>\n",
              "      <td>4.695057</td>\n",
              "      <td>13.689828</td>\n",
              "    </tr>\n",
              "    <tr>\n",
              "      <th>max</th>\n",
              "      <td>6965.000000</td>\n",
              "      <td>180.000000</td>\n",
              "      <td>51.518452</td>\n",
              "      <td>4.857561</td>\n",
              "      <td>63.488066</td>\n",
              "      <td>33.000000</td>\n",
              "      <td>24.400000</td>\n",
              "      <td>100.000000</td>\n",
              "      <td>83.000000</td>\n",
              "      <td>48.300000</td>\n",
              "      <td>103.650000</td>\n",
              "      <td>39.999642</td>\n",
              "      <td>89.999082</td>\n",
              "      <td>14.837122</td>\n",
              "      <td>29.999157</td>\n",
              "    </tr>\n",
              "  </tbody>\n",
              "</table>\n",
              "</div>\n",
              "    <div class=\"colab-df-buttons\">\n",
              "\n",
              "  <div class=\"colab-df-container\">\n",
              "    <button class=\"colab-df-convert\" onclick=\"convertToInteractive('df-84aa5a77-8113-4aa5-9ff6-c9556a0d7a27')\"\n",
              "            title=\"Convert this dataframe to an interactive table.\"\n",
              "            style=\"display:none;\">\n",
              "\n",
              "  <svg xmlns=\"http://www.w3.org/2000/svg\" height=\"24px\" viewBox=\"0 -960 960 960\">\n",
              "    <path d=\"M120-120v-720h720v720H120Zm60-500h600v-160H180v160Zm220 220h160v-160H400v160Zm0 220h160v-160H400v160ZM180-400h160v-160H180v160Zm440 0h160v-160H620v160ZM180-180h160v-160H180v160Zm440 0h160v-160H620v160Z\"/>\n",
              "  </svg>\n",
              "    </button>\n",
              "\n",
              "  <style>\n",
              "    .colab-df-container {\n",
              "      display:flex;\n",
              "      gap: 12px;\n",
              "    }\n",
              "\n",
              "    .colab-df-convert {\n",
              "      background-color: #E8F0FE;\n",
              "      border: none;\n",
              "      border-radius: 50%;\n",
              "      cursor: pointer;\n",
              "      display: none;\n",
              "      fill: #1967D2;\n",
              "      height: 32px;\n",
              "      padding: 0 0 0 0;\n",
              "      width: 32px;\n",
              "    }\n",
              "\n",
              "    .colab-df-convert:hover {\n",
              "      background-color: #E2EBFA;\n",
              "      box-shadow: 0px 1px 2px rgba(60, 64, 67, 0.3), 0px 1px 3px 1px rgba(60, 64, 67, 0.15);\n",
              "      fill: #174EA6;\n",
              "    }\n",
              "\n",
              "    .colab-df-buttons div {\n",
              "      margin-bottom: 4px;\n",
              "    }\n",
              "\n",
              "    [theme=dark] .colab-df-convert {\n",
              "      background-color: #3B4455;\n",
              "      fill: #D2E3FC;\n",
              "    }\n",
              "\n",
              "    [theme=dark] .colab-df-convert:hover {\n",
              "      background-color: #434B5C;\n",
              "      box-shadow: 0px 1px 3px 1px rgba(0, 0, 0, 0.15);\n",
              "      filter: drop-shadow(0px 1px 2px rgba(0, 0, 0, 0.3));\n",
              "      fill: #FFFFFF;\n",
              "    }\n",
              "  </style>\n",
              "\n",
              "    <script>\n",
              "      const buttonEl =\n",
              "        document.querySelector('#df-84aa5a77-8113-4aa5-9ff6-c9556a0d7a27 button.colab-df-convert');\n",
              "      buttonEl.style.display =\n",
              "        google.colab.kernel.accessAllowed ? 'block' : 'none';\n",
              "\n",
              "      async function convertToInteractive(key) {\n",
              "        const element = document.querySelector('#df-84aa5a77-8113-4aa5-9ff6-c9556a0d7a27');\n",
              "        const dataTable =\n",
              "          await google.colab.kernel.invokeFunction('convertToInteractive',\n",
              "                                                    [key], {});\n",
              "        if (!dataTable) return;\n",
              "\n",
              "        const docLinkHtml = 'Like what you see? Visit the ' +\n",
              "          '<a target=\"_blank\" href=https://colab.research.google.com/notebooks/data_table.ipynb>data table notebook</a>'\n",
              "          + ' to learn more about interactive tables.';\n",
              "        element.innerHTML = '';\n",
              "        dataTable['output_type'] = 'display_data';\n",
              "        await google.colab.output.renderOutput(dataTable, element);\n",
              "        const docLink = document.createElement('div');\n",
              "        docLink.innerHTML = docLinkHtml;\n",
              "        element.appendChild(docLink);\n",
              "      }\n",
              "    </script>\n",
              "  </div>\n",
              "\n",
              "\n",
              "<div id=\"df-c5ccfd28-07eb-481c-8c50-410568149665\">\n",
              "  <button class=\"colab-df-quickchart\" onclick=\"quickchart('df-c5ccfd28-07eb-481c-8c50-410568149665')\"\n",
              "            title=\"Suggest charts\"\n",
              "            style=\"display:none;\">\n",
              "\n",
              "<svg xmlns=\"http://www.w3.org/2000/svg\" height=\"24px\"viewBox=\"0 0 24 24\"\n",
              "     width=\"24px\">\n",
              "    <g>\n",
              "        <path d=\"M19 3H5c-1.1 0-2 .9-2 2v14c0 1.1.9 2 2 2h14c1.1 0 2-.9 2-2V5c0-1.1-.9-2-2-2zM9 17H7v-7h2v7zm4 0h-2V7h2v10zm4 0h-2v-4h2v4z\"/>\n",
              "    </g>\n",
              "</svg>\n",
              "  </button>\n",
              "\n",
              "<style>\n",
              "  .colab-df-quickchart {\n",
              "      --bg-color: #E8F0FE;\n",
              "      --fill-color: #1967D2;\n",
              "      --hover-bg-color: #E2EBFA;\n",
              "      --hover-fill-color: #174EA6;\n",
              "      --disabled-fill-color: #AAA;\n",
              "      --disabled-bg-color: #DDD;\n",
              "  }\n",
              "\n",
              "  [theme=dark] .colab-df-quickchart {\n",
              "      --bg-color: #3B4455;\n",
              "      --fill-color: #D2E3FC;\n",
              "      --hover-bg-color: #434B5C;\n",
              "      --hover-fill-color: #FFFFFF;\n",
              "      --disabled-bg-color: #3B4455;\n",
              "      --disabled-fill-color: #666;\n",
              "  }\n",
              "\n",
              "  .colab-df-quickchart {\n",
              "    background-color: var(--bg-color);\n",
              "    border: none;\n",
              "    border-radius: 50%;\n",
              "    cursor: pointer;\n",
              "    display: none;\n",
              "    fill: var(--fill-color);\n",
              "    height: 32px;\n",
              "    padding: 0;\n",
              "    width: 32px;\n",
              "  }\n",
              "\n",
              "  .colab-df-quickchart:hover {\n",
              "    background-color: var(--hover-bg-color);\n",
              "    box-shadow: 0 1px 2px rgba(60, 64, 67, 0.3), 0 1px 3px 1px rgba(60, 64, 67, 0.15);\n",
              "    fill: var(--button-hover-fill-color);\n",
              "  }\n",
              "\n",
              "  .colab-df-quickchart-complete:disabled,\n",
              "  .colab-df-quickchart-complete:disabled:hover {\n",
              "    background-color: var(--disabled-bg-color);\n",
              "    fill: var(--disabled-fill-color);\n",
              "    box-shadow: none;\n",
              "  }\n",
              "\n",
              "  .colab-df-spinner {\n",
              "    border: 2px solid var(--fill-color);\n",
              "    border-color: transparent;\n",
              "    border-bottom-color: var(--fill-color);\n",
              "    animation:\n",
              "      spin 1s steps(1) infinite;\n",
              "  }\n",
              "\n",
              "  @keyframes spin {\n",
              "    0% {\n",
              "      border-color: transparent;\n",
              "      border-bottom-color: var(--fill-color);\n",
              "      border-left-color: var(--fill-color);\n",
              "    }\n",
              "    20% {\n",
              "      border-color: transparent;\n",
              "      border-left-color: var(--fill-color);\n",
              "      border-top-color: var(--fill-color);\n",
              "    }\n",
              "    30% {\n",
              "      border-color: transparent;\n",
              "      border-left-color: var(--fill-color);\n",
              "      border-top-color: var(--fill-color);\n",
              "      border-right-color: var(--fill-color);\n",
              "    }\n",
              "    40% {\n",
              "      border-color: transparent;\n",
              "      border-right-color: var(--fill-color);\n",
              "      border-top-color: var(--fill-color);\n",
              "    }\n",
              "    60% {\n",
              "      border-color: transparent;\n",
              "      border-right-color: var(--fill-color);\n",
              "    }\n",
              "    80% {\n",
              "      border-color: transparent;\n",
              "      border-right-color: var(--fill-color);\n",
              "      border-bottom-color: var(--fill-color);\n",
              "    }\n",
              "    90% {\n",
              "      border-color: transparent;\n",
              "      border-bottom-color: var(--fill-color);\n",
              "    }\n",
              "  }\n",
              "</style>\n",
              "\n",
              "  <script>\n",
              "    async function quickchart(key) {\n",
              "      const quickchartButtonEl =\n",
              "        document.querySelector('#' + key + ' button');\n",
              "      quickchartButtonEl.disabled = true;  // To prevent multiple clicks.\n",
              "      quickchartButtonEl.classList.add('colab-df-spinner');\n",
              "      try {\n",
              "        const charts = await google.colab.kernel.invokeFunction(\n",
              "            'suggestCharts', [key], {});\n",
              "      } catch (error) {\n",
              "        console.error('Error during call to suggestCharts:', error);\n",
              "      }\n",
              "      quickchartButtonEl.classList.remove('colab-df-spinner');\n",
              "      quickchartButtonEl.classList.add('colab-df-quickchart-complete');\n",
              "    }\n",
              "    (() => {\n",
              "      let quickchartButtonEl =\n",
              "        document.querySelector('#df-c5ccfd28-07eb-481c-8c50-410568149665 button');\n",
              "      quickchartButtonEl.style.display =\n",
              "        google.colab.kernel.accessAllowed ? 'block' : 'none';\n",
              "    })();\n",
              "  </script>\n",
              "</div>\n",
              "\n",
              "    </div>\n",
              "  </div>\n"
            ],
            "application/vnd.google.colaboratory.intrinsic+json": {
              "type": "dataframe",
              "summary": "{\n  \"name\": \"merged_data_filled\",\n  \"rows\": 8,\n  \"fields\": [\n    {\n      \"column\": \"altitude\",\n      \"properties\": {\n        \"dtype\": \"number\",\n        \"std\": 46124.16059019347,\n        \"min\": -1010.0,\n        \"max\": 131138.0,\n        \"num_unique_values\": 7,\n        \"samples\": [\n          131138.0,\n          29.451417590629717,\n          12.0\n        ],\n        \"semantic_type\": \"\",\n        \"description\": \"\"\n      }\n    },\n    {\n      \"column\": \"direction\",\n      \"properties\": {\n        \"dtype\": \"number\",\n        \"std\": 46340.14213453833,\n        \"min\": -179.997929221463,\n        \"max\": 131138.0,\n        \"num_unique_values\": 7,\n        \"samples\": [\n          131138.0,\n          76.95073955077747,\n          149.949008431133\n        ],\n        \"semantic_type\": \"\",\n        \"description\": \"\"\n      }\n    },\n    {\n      \"column\": \"latitude\",\n      \"properties\": {\n        \"dtype\": \"number\",\n        \"std\": 46354.29206080344,\n        \"min\": 11.465426682828808,\n        \"max\": 131138.0,\n        \"num_unique_values\": 7,\n        \"samples\": [\n          131138.0,\n          31.642889694471506,\n          30.437749175\n        ],\n        \"semantic_type\": \"\",\n        \"description\": \"\"\n      }\n    },\n    {\n      \"column\": \"longitude\",\n      \"properties\": {\n        \"dtype\": \"number\",\n        \"std\": 46366.4013763694,\n        \"min\": -17.6261451,\n        \"max\": 131138.0,\n        \"num_unique_values\": 7,\n        \"samples\": [\n          131138.0,\n          -8.140568332813062,\n          -8.95336692998708\n        ],\n        \"semantic_type\": \"\",\n        \"description\": \"\"\n      }\n    },\n    {\n      \"column\": \"speed_2d\",\n      \"properties\": {\n        \"dtype\": \"number\",\n        \"std\": 46360.771038509425,\n        \"min\": 0.0,\n        \"max\": 131138.0,\n        \"num_unique_values\": 7,\n        \"samples\": [\n          131138.0,\n          1.4644046930563734,\n          1.0754068997361\n        ],\n        \"semantic_type\": \"\",\n        \"description\": \"\"\n      }\n    },\n    {\n      \"column\": \"Temp_C\",\n      \"properties\": {\n        \"dtype\": \"number\",\n        \"std\": 46363.57844443776,\n        \"min\": -23.3,\n        \"max\": 131138.0,\n        \"num_unique_values\": 6,\n        \"samples\": [\n          131138.0,\n          0.5893249858927236,\n          33.0\n        ],\n        \"semantic_type\": \"\",\n        \"description\": \"\"\n      }\n    },\n    {\n      \"column\": \"Dew Point Temp_C\",\n      \"properties\": {\n        \"dtype\": \"number\",\n        \"std\": 46364.482251855945,\n        \"min\": -28.5,\n        \"max\": 131138.0,\n        \"num_unique_values\": 7,\n        \"samples\": [\n          131138.0,\n          -0.7966089157986247,\n          0.0\n        ],\n        \"semantic_type\": \"\",\n        \"description\": \"\"\n      }\n    },\n    {\n      \"column\": \"Rel Hum_%\",\n      \"properties\": {\n        \"dtype\": \"number\",\n        \"std\": 46347.30900673402,\n        \"min\": 0.0,\n        \"max\": 131138.0,\n        \"num_unique_values\": 7,\n        \"samples\": [\n          131138.0,\n          44.149247357745274,\n          86.0\n        ],\n        \"semantic_type\": \"\",\n        \"description\": \"\"\n      }\n    },\n    {\n      \"column\": \"Wind Speed_km/h\",\n      \"properties\": {\n        \"dtype\": \"number\",\n        \"std\": 46356.53990454169,\n        \"min\": 0.0,\n        \"max\": 131138.0,\n        \"num_unique_values\": 7,\n        \"samples\": [\n          131138.0,\n          14.826373743689853,\n          30.0\n        ],\n        \"semantic_type\": \"\",\n        \"description\": \"\"\n      }\n    },\n    {\n      \"column\": \"Visibility_km\",\n      \"properties\": {\n        \"dtype\": \"number\",\n        \"std\": 46359.92409278179,\n        \"min\": 0.0,\n        \"max\": 131138.0,\n        \"num_unique_values\": 6,\n        \"samples\": [\n          131138.0,\n          7.0605674937851735,\n          48.3\n        ],\n        \"semantic_type\": \"\",\n        \"description\": \"\"\n      }\n    },\n    {\n      \"column\": \"Press_kPa\",\n      \"properties\": {\n        \"dtype\": \"number\",\n        \"std\": 46343.78873450974,\n        \"min\": 0.0,\n        \"max\": 131138.0,\n        \"num_unique_values\": 6,\n        \"samples\": [\n          131138.0,\n          52.80231298326954,\n          103.65\n        ],\n        \"semantic_type\": \"\",\n        \"description\": \"\"\n      }\n    },\n    {\n      \"column\": \"Temperature_C\",\n      \"properties\": {\n        \"dtype\": \"number\",\n        \"std\": 46361.659564473375,\n        \"min\": -19.7008126991134,\n        \"max\": 131138.0,\n        \"num_unique_values\": 7,\n        \"samples\": [\n          131138.0,\n          6.810423522056426,\n          12.6489622108929\n        ],\n        \"semantic_type\": \"\",\n        \"description\": \"\"\n      }\n    },\n    {\n      \"column\": \"Humidity_pct\",\n      \"properties\": {\n        \"dtype\": \"number\",\n        \"std\": 46353.817511700734,\n        \"min\": 0.0,\n        \"max\": 131138.0,\n        \"num_unique_values\": 6,\n        \"samples\": [\n          131138.0,\n          27.705498728669603,\n          89.99908188061943\n        ],\n        \"semantic_type\": \"\",\n        \"description\": \"\"\n      }\n    },\n    {\n      \"column\": \"Precipitation_mm\",\n      \"properties\": {\n        \"dtype\": \"number\",\n        \"std\": 46363.015593108765,\n        \"min\": 0.0,\n        \"max\": 131138.0,\n        \"num_unique_values\": 6,\n        \"samples\": [\n          131138.0,\n          2.356641409925827,\n          14.83712182879291\n        ],\n        \"semantic_type\": \"\",\n        \"description\": \"\"\n      }\n    },\n    {\n      \"column\": \"Wind_Speed_kmh\",\n      \"properties\": {\n        \"dtype\": \"number\",\n        \"std\": 46361.24923209395,\n        \"min\": 0.0,\n        \"max\": 131138.0,\n        \"num_unique_values\": 6,\n        \"samples\": [\n          131138.0,\n          6.909462465609433,\n          29.999157015362893\n        ],\n        \"semantic_type\": \"\",\n        \"description\": \"\"\n      }\n    }\n  ]\n}"
            }
          },
          "metadata": {},
          "execution_count": 31
        }
      ],
      "source": [
        "merged_data_filled.describe()"
      ]
    },
    {
      "cell_type": "code",
      "execution_count": null,
      "metadata": {
        "colab": {
          "base_uri": "https://localhost:8080/"
        },
        "id": "rwcI6hxbA3ik",
        "outputId": "17c5cc04-7eda-4c1b-ee52-9eff090bcb22"
      },
      "outputs": [
        {
          "output_type": "stream",
          "name": "stdout",
          "text": [
            "<class 'pandas.core.frame.DataFrame'>\n",
            "RangeIndex: 131138 entries, 0 to 131137\n",
            "Data columns (total 17 columns):\n",
            " #   Column            Non-Null Count   Dtype              \n",
            "---  ------            --------------   -----              \n",
            " 0   altitude          131138 non-null  float64            \n",
            " 1   date_time         131138 non-null  datetime64[ns, UTC]\n",
            " 2   direction         131138 non-null  float64            \n",
            " 3   latitude          131138 non-null  float64            \n",
            " 4   longitude         131138 non-null  float64            \n",
            " 5   speed_2d          131138 non-null  float64            \n",
            " 6   Temp_C            131138 non-null  float64            \n",
            " 7   Dew Point Temp_C  131138 non-null  float64            \n",
            " 8   Rel Hum_%         131138 non-null  float64            \n",
            " 9   Wind Speed_km/h   131138 non-null  float64            \n",
            " 10  Visibility_km     131138 non-null  float64            \n",
            " 11  Press_kPa         131138 non-null  float64            \n",
            " 12  Weather           131138 non-null  object             \n",
            " 13  Temperature_C     131138 non-null  float64            \n",
            " 14  Humidity_pct      131138 non-null  float64            \n",
            " 15  Precipitation_mm  131138 non-null  float64            \n",
            " 16  Wind_Speed_kmh    131138 non-null  float64            \n",
            "dtypes: datetime64[ns, UTC](1), float64(15), object(1)\n",
            "memory usage: 17.0+ MB\n"
          ]
        }
      ],
      "source": [
        "merged_data_filled.info()"
      ]
    },
    {
      "cell_type": "code",
      "execution_count": null,
      "metadata": {
        "id": "3dXrlVLNDlpa"
      },
      "outputs": [],
      "source": [
        "merged_data_filled.dropna(inplace=True)"
      ]
    },
    {
      "cell_type": "markdown",
      "metadata": {
        "id": "OyhiyFFqEEyV"
      },
      "source": [
        "# 1)Predicting Bird Migration Routes\n",
        "# 2)Predicting Bird Altitude\n",
        "# 3) Predicting Bird Speed"
      ]
    },
    {
      "cell_type": "markdown",
      "metadata": {
        "id": "eKm7fYPtElgD"
      },
      "source": [
        "* Data Preprocessing\n",
        "* Prepare your data for training by handling missing values, encoding categorical variables, scaling numerical features, and splitting the data into training and test sets."
      ]
    },
    {
      "cell_type": "code",
      "execution_count": null,
      "metadata": {
        "id": "AyaEYKTtEaSM"
      },
      "outputs": [],
      "source": [
        "from sklearn.preprocessing import StandardScaler,LabelEncoder"
      ]
    },
    {
      "cell_type": "code",
      "execution_count": null,
      "metadata": {
        "id": "Y2Nhojd8FCJR"
      },
      "outputs": [],
      "source": [
        "#Featuting\n",
        "merged_data_filled['hour'] = merged_data_filled['date_time'].dt.hour\n",
        "merged_data_filled['day'] = merged_data_filled['date_time'].dt.day\n",
        "merged_data_filled['month'] = merged_data_filled['date_time'].dt.month\n",
        "merged_data_filled['year'] = merged_data_filled['date_time'].dt.year"
      ]
    },
    {
      "cell_type": "code",
      "execution_count": null,
      "metadata": {
        "id": "OCV5OsGyFd1n"
      },
      "outputs": [],
      "source": [
        "merged_data_filled.drop(columns=['date_time'], inplace=True)\n"
      ]
    },
    {
      "cell_type": "code",
      "execution_count": null,
      "metadata": {
        "colab": {
          "base_uri": "https://localhost:8080/",
          "height": 261
        },
        "id": "Z2_cuv96FsFh",
        "outputId": "2edfa676-fecf-44ec-8e9e-e4e822d421af"
      },
      "outputs": [
        {
          "output_type": "execute_result",
          "data": {
            "text/plain": [
              "   altitude   direction   latitude  longitude  speed_2d  Temp_C  \\\n",
              "0      71.0 -150.469753  49.419860   2.120733  0.150000     0.0   \n",
              "1      68.0 -136.151141  49.419880   2.120746  2.438360     0.0   \n",
              "2      68.0  160.797477  49.420310   2.120885  0.596657     0.0   \n",
              "3      73.0   32.769360  49.420359   2.120859  0.310161     0.0   \n",
              "4      69.0   45.191230  49.420331   2.120887  0.193132     0.0   \n",
              "\n",
              "   Dew Point Temp_C  Rel Hum_%  Wind Speed_km/h  Visibility_km  Press_kPa  \\\n",
              "0               0.0        0.0              0.0            0.0        0.0   \n",
              "1               0.0        0.0              0.0            0.0        0.0   \n",
              "2               0.0        0.0              0.0            0.0        0.0   \n",
              "3               0.0        0.0              0.0            0.0        0.0   \n",
              "4               0.0        0.0              0.0            0.0        0.0   \n",
              "\n",
              "  Weather  Temperature_C  Humidity_pct  Precipitation_mm  Wind_Speed_kmh  \\\n",
              "0       0            0.0           0.0               0.0             0.0   \n",
              "1       0            0.0           0.0               0.0             0.0   \n",
              "2       0            0.0           0.0               0.0             0.0   \n",
              "3       0            0.0           0.0               0.0             0.0   \n",
              "4       0            0.0           0.0               0.0             0.0   \n",
              "\n",
              "   hour  day  month  year  \n",
              "0     0   15      8  2013  \n",
              "1     0   15      8  2013  \n",
              "2     1   15      8  2013  \n",
              "3     1   15      8  2013  \n",
              "4     2   15      8  2013  "
            ],
            "text/html": [
              "\n",
              "  <div id=\"df-7911bda3-2542-4586-9acf-dae9fe5bddfb\" class=\"colab-df-container\">\n",
              "    <div>\n",
              "<style scoped>\n",
              "    .dataframe tbody tr th:only-of-type {\n",
              "        vertical-align: middle;\n",
              "    }\n",
              "\n",
              "    .dataframe tbody tr th {\n",
              "        vertical-align: top;\n",
              "    }\n",
              "\n",
              "    .dataframe thead th {\n",
              "        text-align: right;\n",
              "    }\n",
              "</style>\n",
              "<table border=\"1\" class=\"dataframe\">\n",
              "  <thead>\n",
              "    <tr style=\"text-align: right;\">\n",
              "      <th></th>\n",
              "      <th>altitude</th>\n",
              "      <th>direction</th>\n",
              "      <th>latitude</th>\n",
              "      <th>longitude</th>\n",
              "      <th>speed_2d</th>\n",
              "      <th>Temp_C</th>\n",
              "      <th>Dew Point Temp_C</th>\n",
              "      <th>Rel Hum_%</th>\n",
              "      <th>Wind Speed_km/h</th>\n",
              "      <th>Visibility_km</th>\n",
              "      <th>Press_kPa</th>\n",
              "      <th>Weather</th>\n",
              "      <th>Temperature_C</th>\n",
              "      <th>Humidity_pct</th>\n",
              "      <th>Precipitation_mm</th>\n",
              "      <th>Wind_Speed_kmh</th>\n",
              "      <th>hour</th>\n",
              "      <th>day</th>\n",
              "      <th>month</th>\n",
              "      <th>year</th>\n",
              "    </tr>\n",
              "  </thead>\n",
              "  <tbody>\n",
              "    <tr>\n",
              "      <th>0</th>\n",
              "      <td>71.0</td>\n",
              "      <td>-150.469753</td>\n",
              "      <td>49.419860</td>\n",
              "      <td>2.120733</td>\n",
              "      <td>0.150000</td>\n",
              "      <td>0.0</td>\n",
              "      <td>0.0</td>\n",
              "      <td>0.0</td>\n",
              "      <td>0.0</td>\n",
              "      <td>0.0</td>\n",
              "      <td>0.0</td>\n",
              "      <td>0</td>\n",
              "      <td>0.0</td>\n",
              "      <td>0.0</td>\n",
              "      <td>0.0</td>\n",
              "      <td>0.0</td>\n",
              "      <td>0</td>\n",
              "      <td>15</td>\n",
              "      <td>8</td>\n",
              "      <td>2013</td>\n",
              "    </tr>\n",
              "    <tr>\n",
              "      <th>1</th>\n",
              "      <td>68.0</td>\n",
              "      <td>-136.151141</td>\n",
              "      <td>49.419880</td>\n",
              "      <td>2.120746</td>\n",
              "      <td>2.438360</td>\n",
              "      <td>0.0</td>\n",
              "      <td>0.0</td>\n",
              "      <td>0.0</td>\n",
              "      <td>0.0</td>\n",
              "      <td>0.0</td>\n",
              "      <td>0.0</td>\n",
              "      <td>0</td>\n",
              "      <td>0.0</td>\n",
              "      <td>0.0</td>\n",
              "      <td>0.0</td>\n",
              "      <td>0.0</td>\n",
              "      <td>0</td>\n",
              "      <td>15</td>\n",
              "      <td>8</td>\n",
              "      <td>2013</td>\n",
              "    </tr>\n",
              "    <tr>\n",
              "      <th>2</th>\n",
              "      <td>68.0</td>\n",
              "      <td>160.797477</td>\n",
              "      <td>49.420310</td>\n",
              "      <td>2.120885</td>\n",
              "      <td>0.596657</td>\n",
              "      <td>0.0</td>\n",
              "      <td>0.0</td>\n",
              "      <td>0.0</td>\n",
              "      <td>0.0</td>\n",
              "      <td>0.0</td>\n",
              "      <td>0.0</td>\n",
              "      <td>0</td>\n",
              "      <td>0.0</td>\n",
              "      <td>0.0</td>\n",
              "      <td>0.0</td>\n",
              "      <td>0.0</td>\n",
              "      <td>1</td>\n",
              "      <td>15</td>\n",
              "      <td>8</td>\n",
              "      <td>2013</td>\n",
              "    </tr>\n",
              "    <tr>\n",
              "      <th>3</th>\n",
              "      <td>73.0</td>\n",
              "      <td>32.769360</td>\n",
              "      <td>49.420359</td>\n",
              "      <td>2.120859</td>\n",
              "      <td>0.310161</td>\n",
              "      <td>0.0</td>\n",
              "      <td>0.0</td>\n",
              "      <td>0.0</td>\n",
              "      <td>0.0</td>\n",
              "      <td>0.0</td>\n",
              "      <td>0.0</td>\n",
              "      <td>0</td>\n",
              "      <td>0.0</td>\n",
              "      <td>0.0</td>\n",
              "      <td>0.0</td>\n",
              "      <td>0.0</td>\n",
              "      <td>1</td>\n",
              "      <td>15</td>\n",
              "      <td>8</td>\n",
              "      <td>2013</td>\n",
              "    </tr>\n",
              "    <tr>\n",
              "      <th>4</th>\n",
              "      <td>69.0</td>\n",
              "      <td>45.191230</td>\n",
              "      <td>49.420331</td>\n",
              "      <td>2.120887</td>\n",
              "      <td>0.193132</td>\n",
              "      <td>0.0</td>\n",
              "      <td>0.0</td>\n",
              "      <td>0.0</td>\n",
              "      <td>0.0</td>\n",
              "      <td>0.0</td>\n",
              "      <td>0.0</td>\n",
              "      <td>0</td>\n",
              "      <td>0.0</td>\n",
              "      <td>0.0</td>\n",
              "      <td>0.0</td>\n",
              "      <td>0.0</td>\n",
              "      <td>2</td>\n",
              "      <td>15</td>\n",
              "      <td>8</td>\n",
              "      <td>2013</td>\n",
              "    </tr>\n",
              "  </tbody>\n",
              "</table>\n",
              "</div>\n",
              "    <div class=\"colab-df-buttons\">\n",
              "\n",
              "  <div class=\"colab-df-container\">\n",
              "    <button class=\"colab-df-convert\" onclick=\"convertToInteractive('df-7911bda3-2542-4586-9acf-dae9fe5bddfb')\"\n",
              "            title=\"Convert this dataframe to an interactive table.\"\n",
              "            style=\"display:none;\">\n",
              "\n",
              "  <svg xmlns=\"http://www.w3.org/2000/svg\" height=\"24px\" viewBox=\"0 -960 960 960\">\n",
              "    <path d=\"M120-120v-720h720v720H120Zm60-500h600v-160H180v160Zm220 220h160v-160H400v160Zm0 220h160v-160H400v160ZM180-400h160v-160H180v160Zm440 0h160v-160H620v160ZM180-180h160v-160H180v160Zm440 0h160v-160H620v160Z\"/>\n",
              "  </svg>\n",
              "    </button>\n",
              "\n",
              "  <style>\n",
              "    .colab-df-container {\n",
              "      display:flex;\n",
              "      gap: 12px;\n",
              "    }\n",
              "\n",
              "    .colab-df-convert {\n",
              "      background-color: #E8F0FE;\n",
              "      border: none;\n",
              "      border-radius: 50%;\n",
              "      cursor: pointer;\n",
              "      display: none;\n",
              "      fill: #1967D2;\n",
              "      height: 32px;\n",
              "      padding: 0 0 0 0;\n",
              "      width: 32px;\n",
              "    }\n",
              "\n",
              "    .colab-df-convert:hover {\n",
              "      background-color: #E2EBFA;\n",
              "      box-shadow: 0px 1px 2px rgba(60, 64, 67, 0.3), 0px 1px 3px 1px rgba(60, 64, 67, 0.15);\n",
              "      fill: #174EA6;\n",
              "    }\n",
              "\n",
              "    .colab-df-buttons div {\n",
              "      margin-bottom: 4px;\n",
              "    }\n",
              "\n",
              "    [theme=dark] .colab-df-convert {\n",
              "      background-color: #3B4455;\n",
              "      fill: #D2E3FC;\n",
              "    }\n",
              "\n",
              "    [theme=dark] .colab-df-convert:hover {\n",
              "      background-color: #434B5C;\n",
              "      box-shadow: 0px 1px 3px 1px rgba(0, 0, 0, 0.15);\n",
              "      filter: drop-shadow(0px 1px 2px rgba(0, 0, 0, 0.3));\n",
              "      fill: #FFFFFF;\n",
              "    }\n",
              "  </style>\n",
              "\n",
              "    <script>\n",
              "      const buttonEl =\n",
              "        document.querySelector('#df-7911bda3-2542-4586-9acf-dae9fe5bddfb button.colab-df-convert');\n",
              "      buttonEl.style.display =\n",
              "        google.colab.kernel.accessAllowed ? 'block' : 'none';\n",
              "\n",
              "      async function convertToInteractive(key) {\n",
              "        const element = document.querySelector('#df-7911bda3-2542-4586-9acf-dae9fe5bddfb');\n",
              "        const dataTable =\n",
              "          await google.colab.kernel.invokeFunction('convertToInteractive',\n",
              "                                                    [key], {});\n",
              "        if (!dataTable) return;\n",
              "\n",
              "        const docLinkHtml = 'Like what you see? Visit the ' +\n",
              "          '<a target=\"_blank\" href=https://colab.research.google.com/notebooks/data_table.ipynb>data table notebook</a>'\n",
              "          + ' to learn more about interactive tables.';\n",
              "        element.innerHTML = '';\n",
              "        dataTable['output_type'] = 'display_data';\n",
              "        await google.colab.output.renderOutput(dataTable, element);\n",
              "        const docLink = document.createElement('div');\n",
              "        docLink.innerHTML = docLinkHtml;\n",
              "        element.appendChild(docLink);\n",
              "      }\n",
              "    </script>\n",
              "  </div>\n",
              "\n",
              "\n",
              "<div id=\"df-21e3d0de-733b-4bd2-a73d-a2a12bbe88ae\">\n",
              "  <button class=\"colab-df-quickchart\" onclick=\"quickchart('df-21e3d0de-733b-4bd2-a73d-a2a12bbe88ae')\"\n",
              "            title=\"Suggest charts\"\n",
              "            style=\"display:none;\">\n",
              "\n",
              "<svg xmlns=\"http://www.w3.org/2000/svg\" height=\"24px\"viewBox=\"0 0 24 24\"\n",
              "     width=\"24px\">\n",
              "    <g>\n",
              "        <path d=\"M19 3H5c-1.1 0-2 .9-2 2v14c0 1.1.9 2 2 2h14c1.1 0 2-.9 2-2V5c0-1.1-.9-2-2-2zM9 17H7v-7h2v7zm4 0h-2V7h2v10zm4 0h-2v-4h2v4z\"/>\n",
              "    </g>\n",
              "</svg>\n",
              "  </button>\n",
              "\n",
              "<style>\n",
              "  .colab-df-quickchart {\n",
              "      --bg-color: #E8F0FE;\n",
              "      --fill-color: #1967D2;\n",
              "      --hover-bg-color: #E2EBFA;\n",
              "      --hover-fill-color: #174EA6;\n",
              "      --disabled-fill-color: #AAA;\n",
              "      --disabled-bg-color: #DDD;\n",
              "  }\n",
              "\n",
              "  [theme=dark] .colab-df-quickchart {\n",
              "      --bg-color: #3B4455;\n",
              "      --fill-color: #D2E3FC;\n",
              "      --hover-bg-color: #434B5C;\n",
              "      --hover-fill-color: #FFFFFF;\n",
              "      --disabled-bg-color: #3B4455;\n",
              "      --disabled-fill-color: #666;\n",
              "  }\n",
              "\n",
              "  .colab-df-quickchart {\n",
              "    background-color: var(--bg-color);\n",
              "    border: none;\n",
              "    border-radius: 50%;\n",
              "    cursor: pointer;\n",
              "    display: none;\n",
              "    fill: var(--fill-color);\n",
              "    height: 32px;\n",
              "    padding: 0;\n",
              "    width: 32px;\n",
              "  }\n",
              "\n",
              "  .colab-df-quickchart:hover {\n",
              "    background-color: var(--hover-bg-color);\n",
              "    box-shadow: 0 1px 2px rgba(60, 64, 67, 0.3), 0 1px 3px 1px rgba(60, 64, 67, 0.15);\n",
              "    fill: var(--button-hover-fill-color);\n",
              "  }\n",
              "\n",
              "  .colab-df-quickchart-complete:disabled,\n",
              "  .colab-df-quickchart-complete:disabled:hover {\n",
              "    background-color: var(--disabled-bg-color);\n",
              "    fill: var(--disabled-fill-color);\n",
              "    box-shadow: none;\n",
              "  }\n",
              "\n",
              "  .colab-df-spinner {\n",
              "    border: 2px solid var(--fill-color);\n",
              "    border-color: transparent;\n",
              "    border-bottom-color: var(--fill-color);\n",
              "    animation:\n",
              "      spin 1s steps(1) infinite;\n",
              "  }\n",
              "\n",
              "  @keyframes spin {\n",
              "    0% {\n",
              "      border-color: transparent;\n",
              "      border-bottom-color: var(--fill-color);\n",
              "      border-left-color: var(--fill-color);\n",
              "    }\n",
              "    20% {\n",
              "      border-color: transparent;\n",
              "      border-left-color: var(--fill-color);\n",
              "      border-top-color: var(--fill-color);\n",
              "    }\n",
              "    30% {\n",
              "      border-color: transparent;\n",
              "      border-left-color: var(--fill-color);\n",
              "      border-top-color: var(--fill-color);\n",
              "      border-right-color: var(--fill-color);\n",
              "    }\n",
              "    40% {\n",
              "      border-color: transparent;\n",
              "      border-right-color: var(--fill-color);\n",
              "      border-top-color: var(--fill-color);\n",
              "    }\n",
              "    60% {\n",
              "      border-color: transparent;\n",
              "      border-right-color: var(--fill-color);\n",
              "    }\n",
              "    80% {\n",
              "      border-color: transparent;\n",
              "      border-right-color: var(--fill-color);\n",
              "      border-bottom-color: var(--fill-color);\n",
              "    }\n",
              "    90% {\n",
              "      border-color: transparent;\n",
              "      border-bottom-color: var(--fill-color);\n",
              "    }\n",
              "  }\n",
              "</style>\n",
              "\n",
              "  <script>\n",
              "    async function quickchart(key) {\n",
              "      const quickchartButtonEl =\n",
              "        document.querySelector('#' + key + ' button');\n",
              "      quickchartButtonEl.disabled = true;  // To prevent multiple clicks.\n",
              "      quickchartButtonEl.classList.add('colab-df-spinner');\n",
              "      try {\n",
              "        const charts = await google.colab.kernel.invokeFunction(\n",
              "            'suggestCharts', [key], {});\n",
              "      } catch (error) {\n",
              "        console.error('Error during call to suggestCharts:', error);\n",
              "      }\n",
              "      quickchartButtonEl.classList.remove('colab-df-spinner');\n",
              "      quickchartButtonEl.classList.add('colab-df-quickchart-complete');\n",
              "    }\n",
              "    (() => {\n",
              "      let quickchartButtonEl =\n",
              "        document.querySelector('#df-21e3d0de-733b-4bd2-a73d-a2a12bbe88ae button');\n",
              "      quickchartButtonEl.style.display =\n",
              "        google.colab.kernel.accessAllowed ? 'block' : 'none';\n",
              "    })();\n",
              "  </script>\n",
              "</div>\n",
              "\n",
              "    </div>\n",
              "  </div>\n"
            ],
            "application/vnd.google.colaboratory.intrinsic+json": {
              "type": "dataframe",
              "variable_name": "merged_data_filled"
            }
          },
          "metadata": {},
          "execution_count": 37
        }
      ],
      "source": [
        "merged_data_filled.head()"
      ]
    },
    {
      "cell_type": "code",
      "execution_count": null,
      "metadata": {
        "colab": {
          "base_uri": "https://localhost:8080/"
        },
        "id": "UsJmXYBoGJxY",
        "outputId": "8ed40d44-6d72-45b0-e787-bc639793ce0f"
      },
      "outputs": [
        {
          "output_type": "stream",
          "name": "stdout",
          "text": [
            "Weather\n",
            "<class 'str'>    69218\n",
            "<class 'int'>    61920\n",
            "Name: count, dtype: int64\n"
          ]
        }
      ],
      "source": [
        "\n",
        "# Check for mixed types in 'Weather' column\n",
        "print(merged_data_filled['Weather'].apply(type).value_counts())\n",
        "\n",
        "# Convert all values in the 'Weather' column to strings\n",
        "#merged_data_filled['Weather'] = merged_data_filled['Weather'].astype(str)\n"
      ]
    },
    {
      "cell_type": "code",
      "execution_count": null,
      "metadata": {
        "id": "7UIPYbJNG-Jf"
      },
      "outputs": [],
      "source": [
        "# Convert all values in the 'Weather' column to strings\n",
        "merged_data_filled['Weather'] = merged_data_filled['Weather'].astype(str)\n"
      ]
    },
    {
      "cell_type": "code",
      "execution_count": null,
      "metadata": {
        "id": "ztP9QBVVHDTo"
      },
      "outputs": [],
      "source": [
        "#label encoding\n",
        "le = LabelEncoder()\n",
        "merged_data_filled['Weather'] = le.fit_transform(merged_data_filled['Weather'])"
      ]
    },
    {
      "cell_type": "code",
      "execution_count": null,
      "metadata": {
        "id": "wQqZHc3SHMn_"
      },
      "outputs": [],
      "source": [
        "#Standaer Scaler features\n",
        "scaler = StandardScaler()\n",
        "numerical_features = ['altitude', 'speed_2d', 'Temp_C', 'Dew Point Temp_C', 'Rel Hum_%', 'Wind Speed_km/h', 'Visibility_km', 'Press_kPa', 'Temperature_C', 'Humidity_pct', 'Precipitation_mm', 'Wind_Speed_kmh', 'hour', 'day', 'month', 'year']\n",
        "merged_data_filled[numerical_features] = scaler.fit_transform(merged_data_filled[numerical_features])\n"
      ]
    },
    {
      "cell_type": "markdown",
      "metadata": {
        "id": "1red4UZzHgCw"
      },
      "source": [
        "# Splitting the Data for each predictions"
      ]
    },
    {
      "cell_type": "code",
      "execution_count": null,
      "metadata": {
        "id": "hl_cWqq_HfjU"
      },
      "outputs": [],
      "source": [
        "from sklearn.model_selection import train_test_split"
      ]
    },
    {
      "cell_type": "code",
      "execution_count": null,
      "metadata": {
        "id": "xSLJH20xHzLZ"
      },
      "outputs": [],
      "source": [
        "#seperating the inputs and outputs\n",
        "X = merged_data_filled.drop(columns=['latitude', 'longitude', 'altitude', 'speed_2d'])\n",
        "y_lat_long = merged_data_filled[['latitude', 'longitude']]\n",
        "y_altitude = merged_data_filled['altitude']\n",
        "y_speed = merged_data_filled['speed_2d']"
      ]
    },
    {
      "cell_type": "code",
      "execution_count": null,
      "metadata": {
        "id": "gdsNzSnxJNtW"
      },
      "outputs": [],
      "source": [
        "# traing and splitting the data\n",
        "# 1) splitting the data for predicting birds migration routes\n",
        "X_train_lat_long, X_test_lat_long, y_train_lat_long, y_test_lat_long = train_test_split(X, y_lat_long, test_size=0.2, random_state=42)\n",
        "\n",
        "#2) Splitting the data for predicting birds Altitude\n",
        "X_train_altitude, X_test_altitude, y_train_altitude, y_test_altitude = train_test_split(X, y_altitude, test_size=0.2, random_state=42)\n",
        "\n",
        "# 3) Splitting the data for predicting birds Speed\n",
        "X_train_speed, X_test_speed, y_train_speed, y_test_speed = train_test_split(X, y_speed, test_size=0.2, random_state=42)"
      ]
    },
    {
      "cell_type": "markdown",
      "metadata": {
        "id": "ePxgxahQJ6cp"
      },
      "source": [
        "# Model Building\n",
        "* Prediction  Birds migration using ANN model"
      ]
    },
    {
      "cell_type": "code",
      "execution_count": null,
      "metadata": {
        "id": "09Y0iLjOJ5Yo"
      },
      "outputs": [],
      "source": [
        "from tensorflow.keras.models import Sequential\n",
        "from tensorflow.keras.layers import Dense"
      ]
    },
    {
      "cell_type": "code",
      "execution_count": null,
      "metadata": {
        "id": "ivfJdi5-Khza"
      },
      "outputs": [],
      "source": [
        "def create_ann_model(input_shape):\n",
        "    model = Sequential()\n",
        "    model.add(Dense(128, activation='relu', input_shape=(input_shape,)))\n",
        "    model.add(Dense(64, activation='relu'))\n",
        "    model.add(Dense(2))  # For latitude and longitude\n",
        "    model.compile(optimizer='adam', loss='mse')\n",
        "    return model"
      ]
    },
    {
      "cell_type": "code",
      "execution_count": null,
      "metadata": {
        "colab": {
          "base_uri": "https://localhost:8080/"
        },
        "id": "7TRUi1CrKtnP",
        "outputId": "3f0369c1-8f75-430a-fd6b-f9a5dc821e76"
      },
      "outputs": [
        {
          "output_type": "stream",
          "name": "stdout",
          "text": [
            "Epoch 1/10\n",
            "3279/3279 [==============================] - 12s 3ms/step - loss: 63.8131\n",
            "Epoch 2/10\n",
            "3279/3279 [==============================] - 10s 3ms/step - loss: 41.5494\n",
            "Epoch 3/10\n",
            "3279/3279 [==============================] - 10s 3ms/step - loss: 37.7012\n",
            "Epoch 4/10\n",
            "3279/3279 [==============================] - 9s 3ms/step - loss: 35.5707\n",
            "Epoch 5/10\n",
            "3279/3279 [==============================] - 11s 3ms/step - loss: 34.8610\n",
            "Epoch 6/10\n",
            "3279/3279 [==============================] - 10s 3ms/step - loss: 34.5044\n",
            "Epoch 7/10\n",
            "3279/3279 [==============================] - 10s 3ms/step - loss: 34.4762\n",
            "Epoch 8/10\n",
            "3279/3279 [==============================] - 9s 3ms/step - loss: 34.1933\n",
            "Epoch 9/10\n",
            "3279/3279 [==============================] - 9s 3ms/step - loss: 34.0192\n",
            "Epoch 10/10\n",
            "3279/3279 [==============================] - 10s 3ms/step - loss: 33.8514\n"
          ]
        },
        {
          "output_type": "execute_result",
          "data": {
            "text/plain": [
              "<keras.src.callbacks.History at 0x792fce7936d0>"
            ]
          },
          "metadata": {},
          "execution_count": 47
        }
      ],
      "source": [
        "ann_model = create_ann_model(X_train_lat_long.shape[1])\n",
        "ann_model.fit(X_train_lat_long, y_train_lat_long, epochs=10, batch_size=32)"
      ]
    },
    {
      "cell_type": "markdown",
      "metadata": {
        "id": "XVfhcinxNvgJ"
      },
      "source": [
        "* Prediction Birds migration using ANN model"
      ]
    },
    {
      "cell_type": "code",
      "execution_count": null,
      "metadata": {
        "id": "19ZLQXY0NvIX"
      },
      "outputs": [],
      "source": [
        "from tensorflow.keras.models import Sequential\n",
        "from tensorflow.keras.layers import Conv1D, MaxPooling1D, Flatten, Dense\n"
      ]
    },
    {
      "cell_type": "code",
      "execution_count": null,
      "metadata": {
        "id": "e-Hn-hf_N9Wt"
      },
      "outputs": [],
      "source": [
        "def create_cnn_model(input_shape):\n",
        "    model = Sequential()\n",
        "    model.add(Conv1D(filters=64, kernel_size=3, activation='relu', input_shape=input_shape))\n",
        "    model.add(MaxPooling1D(pool_size=2))\n",
        "    model.add(Flatten())\n",
        "    model.add(Dense(100, activation='relu'))\n",
        "    model.add(Dense(2))  # For latitude and longitude\n",
        "    model.compile(optimizer='adam', loss='mse')\n",
        "    return model"
      ]
    },
    {
      "cell_type": "code",
      "execution_count": null,
      "metadata": {
        "colab": {
          "base_uri": "https://localhost:8080/"
        },
        "id": "y6BNMxI5OBsd",
        "outputId": "94c78e26-eb6c-460b-a02c-c7f1ad1ef52a"
      },
      "outputs": [
        {
          "output_type": "stream",
          "name": "stdout",
          "text": [
            "Epoch 1/10\n",
            "3279/3279 [==============================] - 13s 3ms/step - loss: 59.7845\n",
            "Epoch 2/10\n",
            "3279/3279 [==============================] - 10s 3ms/step - loss: 39.6067\n",
            "Epoch 3/10\n",
            "3279/3279 [==============================] - 10s 3ms/step - loss: 36.5084\n",
            "Epoch 4/10\n",
            "3279/3279 [==============================] - 11s 3ms/step - loss: 34.7154\n",
            "Epoch 5/10\n",
            "3279/3279 [==============================] - 11s 3ms/step - loss: 34.1213\n",
            "Epoch 6/10\n",
            "3279/3279 [==============================] - 11s 3ms/step - loss: 33.8574\n",
            "Epoch 7/10\n",
            "3279/3279 [==============================] - 10s 3ms/step - loss: 33.6674\n",
            "Epoch 8/10\n",
            "3279/3279 [==============================] - 10s 3ms/step - loss: 33.6158\n",
            "Epoch 9/10\n",
            "3279/3279 [==============================] - 12s 4ms/step - loss: 33.5014\n",
            "Epoch 10/10\n",
            "3279/3279 [==============================] - 11s 3ms/step - loss: 33.3468\n"
          ]
        },
        {
          "output_type": "execute_result",
          "data": {
            "text/plain": [
              "<keras.src.callbacks.History at 0x792fc0343cd0>"
            ]
          },
          "metadata": {},
          "execution_count": 50
        }
      ],
      "source": [
        "cnn_model = create_cnn_model((X_train_lat_long.shape[1], 1))\n",
        "cnn_model.fit(X_train_lat_long.values.reshape(-1, X_train_lat_long.shape[1], 1), y_train_lat_long, epochs=10, batch_size=32)"
      ]
    },
    {
      "cell_type": "markdown",
      "metadata": {
        "id": "jcEYRQgdSMZw"
      },
      "source": [
        "* Predicting migration with LSTM model"
      ]
    },
    {
      "cell_type": "code",
      "execution_count": null,
      "metadata": {
        "id": "ueCMpgAVScTe"
      },
      "outputs": [],
      "source": [
        "from tensorflow.keras.models import Sequential\n",
        "from tensorflow.keras.layers import LSTM, Dense"
      ]
    },
    {
      "cell_type": "code",
      "execution_count": null,
      "metadata": {
        "id": "KTivtjMzSldK"
      },
      "outputs": [],
      "source": [
        "def create_lstm_model(input_shape):\n",
        "    model = Sequential()\n",
        "    model.add(LSTM(50, activation='relu', input_shape=input_shape))\n",
        "    model.add(Dense(100, activation='relu'))\n",
        "    model.add(Dense(2))  # For latitude and longitude\n",
        "    model.compile(optimizer='adam', loss='mse')\n",
        "    return model"
      ]
    },
    {
      "cell_type": "code",
      "execution_count": null,
      "metadata": {
        "colab": {
          "base_uri": "https://localhost:8080/"
        },
        "id": "AW7pffQxSpUr",
        "outputId": "e73c00ab-d74d-44ad-f38b-e365eec54084"
      },
      "outputs": [
        {
          "metadata": {
            "tags": null
          },
          "name": "stderr",
          "output_type": "stream",
          "text": [
            "WARNING:tensorflow:Layer lstm will not use cuDNN kernels since it doesn't meet the criteria. It will use a generic GPU kernel as fallback when running on GPU.\n"
          ]
        },
        {
          "output_type": "stream",
          "name": "stdout",
          "text": [
            "Epoch 1/10\n",
            "3279/3279 [==============================] - 68s 20ms/step - loss: 55.3413\n",
            "Epoch 2/10\n",
            "3279/3279 [==============================] - 64s 20ms/step - loss: 38.8248\n",
            "Epoch 3/10\n",
            "3279/3279 [==============================] - 67s 20ms/step - loss: 35.5758\n",
            "Epoch 4/10\n",
            "3279/3279 [==============================] - 67s 21ms/step - loss: 34.3240\n",
            "Epoch 5/10\n",
            "3279/3279 [==============================] - 68s 21ms/step - loss: 33.8033\n",
            "Epoch 6/10\n",
            "3279/3279 [==============================] - 66s 20ms/step - loss: 33.5224\n",
            "Epoch 7/10\n",
            "3279/3279 [==============================] - 65s 20ms/step - loss: 33.2735\n",
            "Epoch 8/10\n",
            "3279/3279 [==============================] - 67s 20ms/step - loss: 33.1582\n",
            "Epoch 9/10\n",
            "3279/3279 [==============================] - 66s 20ms/step - loss: 32.9862\n",
            "Epoch 10/10\n",
            "3279/3279 [==============================] - 64s 19ms/step - loss: 32.8039\n"
          ]
        },
        {
          "output_type": "execute_result",
          "data": {
            "text/plain": [
              "<keras.src.callbacks.History at 0x792fc00c38b0>"
            ]
          },
          "metadata": {},
          "execution_count": 53
        }
      ],
      "source": [
        "lstm_model = create_lstm_model((X_train_lat_long.shape[1], 1))\n",
        "lstm_model.fit(X_train_lat_long.values.reshape(-1, X_train_lat_long.shape[1], 1), y_train_lat_long, epochs=10, batch_size=32)"
      ]
    },
    {
      "cell_type": "markdown",
      "metadata": {
        "id": "O-EOl-L_fHpq"
      },
      "source": [
        "* Predicting models for Birds Altitidue"
      ]
    },
    {
      "cell_type": "code",
      "execution_count": null,
      "metadata": {
        "id": "1SSY7MT9fHAg"
      },
      "outputs": [],
      "source": [
        "# predicting with ANN model\n",
        "#def create_ann_model(input_shape):\n",
        " #  model.add(Dense(128, activation='relu', input_shape=(input_shape,)))\n",
        "  #  model.add(Dense(64, activation='relu'))\n",
        "   # model.add(Dense(1))  # For Altitude\n",
        "    #model.compile(optimizer='adam', loss='mse')\n",
        "    #return model"
      ]
    },
    {
      "cell_type": "code",
      "execution_count": null,
      "metadata": {
        "id": "teGBvaG5f13s"
      },
      "outputs": [],
      "source": [
        "#ann_model = create_ann_model(X_train_altitude.shape[1])\n",
        "#ann_model.fit(X_train_altitude, y_train_altitude, epochs=10, batch_size=32)"
      ]
    },
    {
      "cell_type": "markdown",
      "metadata": {
        "id": "U7pGjYXdjKgl"
      },
      "source": [
        "* Predicting CNN model for birds Alititude"
      ]
    },
    {
      "cell_type": "code",
      "execution_count": null,
      "metadata": {
        "id": "LbVnmGLsjWWT"
      },
      "outputs": [],
      "source": [
        "#def create_cnn_model(input_shape):\n",
        " #   model = Sequential()\n",
        "  #  model.add(Conv1D(filters=64, kernel_size=3, activation='relu', input_shape=input_shape))\n",
        "   # model.add(MaxPooling1D(pool_size=2))\n",
        "   # model.add(Flatten())\n",
        "   # model.add(Dense(100, activation='relu'))\n",
        "   # model.add(Dense(1))  # for altitude\n",
        "   # model.compile(optimizer='adam', loss='mse')\n",
        "   # return model"
      ]
    },
    {
      "cell_type": "code",
      "execution_count": null,
      "metadata": {
        "id": "c3eahUT0jfCl"
      },
      "outputs": [],
      "source": [
        "#cnn_model = create_cnn_model((X_train_altitude.shape[1], 1))\n",
        "#cnn_model.fit(X_train_altitude.values.reshape(-1,X_train_altitude.shape[1], 1), y_train_altitude, epochs=10, batch_size=32)"
      ]
    },
    {
      "cell_type": "markdown",
      "metadata": {
        "id": "0GgPb53zn7-E"
      },
      "source": [
        "* Predicting birds altitude using LSTM"
      ]
    },
    {
      "cell_type": "code",
      "execution_count": null,
      "metadata": {
        "id": "KuE9GG5yoEO0"
      },
      "outputs": [],
      "source": [
        "#def create_lstm_model(input_shape):\n",
        " #   model = Sequential()\n",
        "  #  model.add(LSTM(50, activation='relu', input_shape=input_shape))\n",
        "   # model.add(Dense(100, activation='relu'))\n",
        "    #model.add(Dense(1))  # For Altitude\n",
        "    #model.compile(optimizer='adam', loss='mse')\n",
        "    #return model"
      ]
    },
    {
      "cell_type": "code",
      "execution_count": null,
      "metadata": {
        "id": "OKzUvsmBoNNh"
      },
      "outputs": [],
      "source": [
        "#lstm_model = create_lstm_model((X_train_altitude.shape[1], 1))\n",
        "#lstm_model.fit(X_train_altitude.values.reshape(-1, X_train_altitude.shape[1], 1), y_train_altitude, epochs=10, batch_size=32)"
      ]
    },
    {
      "cell_type": "markdown",
      "metadata": {
        "id": "Mol_MkGdzvNq"
      },
      "source": [
        "* Predicting Birds Speed"
      ]
    },
    {
      "cell_type": "code",
      "execution_count": null,
      "metadata": {
        "id": "M1RKvCEGz3HF"
      },
      "outputs": [],
      "source": [
        "# predicting with model ANN\n",
        "#def create_ann_model(input_shape):\n",
        " #   model = Sequential()\n",
        "  #  model.add(Dense(128, activation='relu', input_shape=(input_shape,)))\n",
        "   # model.add(Dense(64, activation='relu'))\n",
        "   # model.add(Dense(1))  # for Speed\n",
        "   # model.compile(optimizer='adam', loss='mse')\n",
        "   # return model"
      ]
    },
    {
      "cell_type": "code",
      "execution_count": null,
      "metadata": {
        "id": "TyJRhato0DYd"
      },
      "outputs": [],
      "source": [
        "#ann_model = create_ann_model(X_train_speed.shape[1])\n",
        "#ann_model.fit(X_train_speed,y_train_speed, epochs=10, batch_size=32)"
      ]
    },
    {
      "cell_type": "code",
      "execution_count": null,
      "metadata": {
        "id": "x9QkEAXH3Ny0"
      },
      "outputs": [],
      "source": [
        "#predicting with CNN model\n",
        "#def create_cnn_model(input_shape):\n",
        " #   model = Sequential()\n",
        "  #  model.add(Conv1D(filters=64, kernel_size=3, activation='relu', input_shape=input_shape))\n",
        "   # model.add(MaxPooling1D(pool_size=2))\n",
        "   # model.add(Flatten())\n",
        "    #model.add(Dense(100, activation='relu'))\n",
        "    #model.add(Dense(1))  # For Speed\n",
        "    #model.compile(optimizer='adam', loss='mse')\n",
        "    #return model"
      ]
    },
    {
      "cell_type": "code",
      "execution_count": null,
      "metadata": {
        "id": "VRx-nVGC3hBA"
      },
      "outputs": [],
      "source": [
        "#cnn_model = create_cnn_model((X_train_speed.shape[1], 1))\n",
        "#cnn_model.fit(X_train_speed.values.reshape(-1, X_train_speed.shape[1], 1), y_train_speed, epochs=10, batch_size=32)"
      ]
    },
    {
      "cell_type": "code",
      "execution_count": null,
      "metadata": {
        "id": "-6-tyImy8guh"
      },
      "outputs": [],
      "source": [
        "# predicting wtith LSTM Model\n",
        "#def create_lstm_model(input_shape):\n",
        " #   model = Sequential()\n",
        "  #  model.add(LSTM(50, activation='relu', input_shape=input_shape))\n",
        "   # model.add(Dense(100, activation='relu'))\n",
        "   # model.add(Dense(1))  # For speed\n",
        "   # model.compile(optimizer='adam', loss='mse')\n",
        "   # return model"
      ]
    },
    {
      "cell_type": "code",
      "execution_count": null,
      "metadata": {
        "id": "lp9T8rSQ84BH"
      },
      "outputs": [],
      "source": [
        "#lstm_model = create_lstm_model((X_train_speed.shape[1], 1))\n",
        "#lstm_model.fit(X_train_speed.values.reshape(-1, X_train_speed.shape[1], 1),  y_train_speed, epochs=10, batch_size=32)"
      ]
    },
    {
      "cell_type": "markdown",
      "metadata": {
        "id": "zeN2mwwAImV5"
      },
      "source": [
        "# Model Evalution\n",
        "* Predicting the Values"
      ]
    },
    {
      "cell_type": "code",
      "execution_count": null,
      "metadata": {
        "id": "A8QFha1sIpgZ",
        "colab": {
          "base_uri": "https://localhost:8080/"
        },
        "outputId": "0925fc8b-2e12-499d-8cb6-c5b10b905d5f"
      },
      "outputs": [
        {
          "output_type": "stream",
          "name": "stdout",
          "text": [
            "820/820 [==============================] - 1s 2ms/step\n",
            "CNN MSE: 53.4806426822261\n",
            "820/820 [==============================] - 1s 2ms/step\n",
            "ANN MSE: 52.95930223499259\n",
            "820/820 [==============================] - 4s 5ms/step\n",
            "LSTM MSE: 50.25761730924752\n"
          ]
        }
      ],
      "source": [
        "# Predicting for the the Bird's Migration routes\n",
        "\n",
        "from sklearn.metrics import mean_squared_error\n",
        "\n",
        "cnn_predictions = cnn_model.predict(X_test_lat_long.values.reshape(-1, X_test_lat_long.shape[1], 1))\n",
        "cnn_mse1 = mean_squared_error(y_test_lat_long.iloc[:, 0], cnn_predictions[:, 0])   # Select the first column of y_test_lat_long\n",
        "print(f'CNN MSE: {cnn_mse1}')\n",
        "\n",
        "# ANN Evaluation\n",
        "ann_predictions = ann_model.predict(X_test_lat_long)\n",
        "# Assuming the ANN model predicts latitude, compare it against the first column of y_test_lat_long\n",
        "ann_mse1 = mean_squared_error(y_test_lat_long.iloc[:, 0], ann_predictions[:,0])\n",
        "print(f'ANN MSE: {ann_mse1}')\n",
        "\n",
        "# LSTM Evaluation\n",
        "lstm_predictions = lstm_model.predict(X_test_lat_long.values.reshape(-1, X_test_lat_long.shape[1], 1))\n",
        "lstm_mse1 = mean_squared_error(y_test_lat_long.iloc[:,0], lstm_predictions[:,0])\n",
        "print(f'LSTM MSE: {lstm_mse1}')"
      ]
    },
    {
      "cell_type": "code",
      "execution_count": null,
      "metadata": {
        "id": "041WO4yPMVCk"
      },
      "outputs": [],
      "source": [
        "# Predicting  for the Birds Altitude\n",
        "\n",
        "#from sklearn.metrics import mean_squared_error\n",
        "\n",
        "#cnn_predictions = cnn_model.predict(X_test_altitude.values.reshape(-1, X_test_altitude.shape[1], 1)) # Fixed: Using X_test_altitude instead of X_train_altitude\n",
        "#cnn_mse2 = mean_squared_error(y_test_altitude, cnn_predictions)  # Fixed: Removed .iloc[:, 0] as it's unnecessary\n",
        "#print(f'CNN MSE: {cnn_mse}')\n",
        "\n",
        "# ANN Evaluation\n",
        "#ann_predictions = ann_model.predict( X_test_altitude)\n",
        "#ann_mse2 = mean_squared_error(y_test_altitude, ann_predictions)   # Fixed: Removed .iloc[:, 0] as it's unnecessary\n",
        "#print(f'ANN MSE: {ann_mse}')\n",
        "\n",
        "# LSTM Evaluation\n",
        "#lstm_predictions = lstm_model.predict(X_test_altitude.values.reshape(-1, X_test_altitude.shape[1], 1))\n",
        "#lstm_mse2 = mean_squared_error(y_test_altitude, lstm_predictions) # Fixed: Removed .iloc[:, 0] as it's unnecessary\n",
        "#print(f'LSTM MSE: {lstm_mse}')"
      ]
    },
    {
      "cell_type": "code",
      "execution_count": null,
      "metadata": {
        "id": "L7M82CWdOFPK"
      },
      "outputs": [],
      "source": [
        "# Predicting  for the Birds Speed\n",
        "\n",
        "#from sklearn.metrics import mean_squared_error\n",
        "\n",
        "#cnn_predictions = cnn_model.predict(X_test_speed.values.reshape(-1, X_test_speed.shape[1], 1)) # Fixed: Using X_test_altitude instead of X_train_altitude\n",
        "#cnn_mse3 = mean_squared_error(y_test_speed, cnn_predictions)  # Fixed: Removed .iloc[:, 0] as it's unnecessary\n",
        "#print(f'CNN MSE: {cnn_mse}')\n",
        "\n",
        "# ANN Evaluation\n",
        "#ann_predictions = ann_model.predict( X_test_speed)\n",
        "#ann_mse3 = mean_squared_error(y_test_speed, ann_predictions)   # Fixed: Removed .iloc[:, 0] as it's unnecessary\n",
        "#print(f'ANN MSE: {ann_mse}')\n",
        "\n",
        "# LSTM Evaluation\n",
        "#lstm_predictions = lstm_model.predict(X_test_speed.values.reshape(-1, X_test_speed.shape[1], 1))\n",
        "#lstm_mse3 = mean_squared_error(y_test_speed, lstm_predictions) # Fixed: Removed .iloc[:, 0] as it's unnecessary\n",
        "#print(f'LSTM MSE: {lstm_mse}')"
      ]
    },
    {
      "cell_type": "markdown",
      "metadata": {
        "id": "CX7LLWj-O-CV"
      },
      "source": [
        "# Comparison and Visualization"
      ]
    },
    {
      "cell_type": "code",
      "execution_count": null,
      "metadata": {
        "id": "c26E_JS_O8Pa",
        "colab": {
          "base_uri": "https://localhost:8080/",
          "height": 564
        },
        "outputId": "2df9b839-ecc7-497c-d7f5-139649fda0b7"
      },
      "outputs": [
        {
          "output_type": "display_data",
          "data": {
            "text/plain": [
              "<Figure size 1000x600 with 1 Axes>"
            ],
            "image/png": "[encoded data removed]"
          },
          "metadata": {}
        }
      ],
      "source": [
        "import matplotlib.pyplot as plt\n",
        "\n",
        "models = ['CNN', 'ANN', 'LSTM']\n",
        "mse_values = [cnn_mse1, ann_mse1, lstm_mse1]\n",
        "\n",
        "plt.figure(figsize=(10, 6))\n",
        "plt.bar(models, mse_values, color=['blue', 'green', 'red'])\n",
        "plt.xlabel('Models')\n",
        "plt.ylabel('Mean Squared Error')\n",
        "plt.title('Model Comparison for Latitude and Longitude Prediction')\n",
        "plt.show()"
      ]
    },
    {
      "cell_type": "code",
      "source": [
        "import pandas as pd\n",
        "import numpy as np\n",
        "\n",
        "# Assuming bird_data is your dataset with true values\n",
        "# Example bins for discretizing (adjust the number of bins and range as needed)\n",
        "latitude_bins = np.linspace(bird_data['latitude'].min(), bird_data['latitude'].max(), num=5)\n",
        "longitude_bins = np.linspace(bird_data['longitude'].min(), bird_data['longitude'].max(), num=5)\n",
        "altitude_bins = np.linspace(bird_data['altitude'].min(), bird_data['altitude'].max(), num=5)\n",
        "speed_bins = np.linspace(bird_data['speed_2d'].min(), bird_data['speed_2d'].max(), num=5)\n",
        "\n",
        "bird_data['latitude_binned'] = pd.cut(bird_data['latitude'], bins=latitude_bins, labels=False)\n",
        "bird_data['longitude_binned'] = pd.cut(bird_data['longitude'], bins=longitude_bins, labels=False)\n",
        "bird_data['altitude_binned'] = pd.cut(bird_data['altitude'], bins=altitude_bins, labels=False)\n",
        "bird_data['speed_binned'] = pd.cut(bird_data['speed_2d'], bins=speed_bins, labels=False)\n",
        "\n",
        "# Combine binned values into a single label (example approach)\n",
        "bird_data['combined_label'] = (bird_data['latitude_binned'].astype(str) + \"_\" +\n",
        "                               bird_data['longitude_binned'].astype(str) + \"_\" +\n",
        "                               bird_data['altitude_binned'].astype(str) + \"_\" +\n",
        "                               bird_data['speed_binned'].astype(str))\n",
        "\n",
        "# Extract true labels\n",
        "y_true = bird_data['combined_label'].values\n"
      ],
      "metadata": {
        "id": "iVbX596e7UAe"
      },
      "execution_count": null,
      "outputs": []
    },
    {
      "cell_type": "code",
      "source": [
        "# Example: Discretize and combine predictions similarly to y_true\n",
        "cnn_preds = np.random.randint(0, 4, size=len(y_true))  # Replace with actual CNN predictions\n",
        "ann_preds = np.random.randint(0, 4, size=len(y_true))  # Replace with actual ANN predictions\n",
        "lstm_preds = np.random.randint(0, 4, size=len(y_true)) # Replace with actual LSTM predictions\n",
        "\n",
        "# For simplicity, assume cnn_preds, ann_preds, lstm_preds are already combined similar to y_true\n",
        "# For actual implementation, discretize and combine as done with y_true\n",
        "\n",
        "# Combine predictions (example using voting mechanism)\n",
        "combined_preds = (cnn_preds + ann_preds + lstm_preds) // 3\n",
        "\n",
        "# Convert each element to string and then join with \"_\"\n",
        "combined_preds_str = np.array([\"_\".join(str(x) for x in row) for row in combined_preds.reshape(-1, 1)])\n",
        "\n",
        "# Generate confusion matrix and classification report\n",
        "conf_matrix = confusion_matrix(y_true, combined_preds_str)\n",
        "class_report = classification_report(y_true, combined_preds_str)\n",
        "\n",
        "# Print classification report\n",
        "print(\"Classification Report:\\n\", class_report)\n",
        "\n",
        "# Plot confusion matrix\n",
        "import matplotlib.pyplot as plt\n",
        "import seaborn as sns\n",
        "\n",
        "plt.figure(figsize=(10, 7))\n",
        "sns.heatmap(conf_matrix, annot=True, fmt='d', cmap='Blues')\n",
        "plt.xlabel('Predicted')\n",
        "plt.ylabel('True')\n",
        "plt.title('Confusion Matrix')\n",
        "plt.show()\n"
      ],
      "metadata": {
        "colab": {
          "base_uri": "https://localhost:8080/",
          "height": 1000
        },
        "id": "tlyXtmUB8qQV",
        "outputId": "0a8ec5a6-727a-4e32-983a-8d896ab489b9"
      },
      "execution_count": null,
      "outputs": [
        {
          "output_type": "stream",
          "name": "stderr",
          "text": [
            "/usr/local/lib/python3.10/dist-packages/sklearn/metrics/_classification.py:1344: UndefinedMetricWarning: Precision and F-score are ill-defined and being set to 0.0 in labels with no predicted samples. Use `zero_division` parameter to control this behavior.\n",
            "  _warn_prf(average, modifier, msg_start, len(result))\n",
            "/usr/local/lib/python3.10/dist-packages/sklearn/metrics/_classification.py:1344: UndefinedMetricWarning: Recall and F-score are ill-defined and being set to 0.0 in labels with no true samples. Use `zero_division` parameter to control this behavior.\n",
            "  _warn_prf(average, modifier, msg_start, len(result))\n",
            "/usr/local/lib/python3.10/dist-packages/sklearn/metrics/_classification.py:1344: UndefinedMetricWarning: Precision and F-score are ill-defined and being set to 0.0 in labels with no predicted samples. Use `zero_division` parameter to control this behavior.\n",
            "  _warn_prf(average, modifier, msg_start, len(result))\n",
            "/usr/local/lib/python3.10/dist-packages/sklearn/metrics/_classification.py:1344: UndefinedMetricWarning: Recall and F-score are ill-defined and being set to 0.0 in labels with no true samples. Use `zero_division` parameter to control this behavior.\n",
            "  _warn_prf(average, modifier, msg_start, len(result))\n",
            "/usr/local/lib/python3.10/dist-packages/sklearn/metrics/_classification.py:1344: UndefinedMetricWarning: Precision and F-score are ill-defined and being set to 0.0 in labels with no predicted samples. Use `zero_division` parameter to control this behavior.\n",
            "  _warn_prf(average, modifier, msg_start, len(result))\n",
            "/usr/local/lib/python3.10/dist-packages/sklearn/metrics/_classification.py:1344: UndefinedMetricWarning: Recall and F-score are ill-defined and being set to 0.0 in labels with no true samples. Use `zero_division` parameter to control this behavior.\n",
            "  _warn_prf(average, modifier, msg_start, len(result))\n"
          ]
        },
        {
          "output_type": "stream",
          "name": "stdout",
          "text": [
            "Classification Report:\n",
            "                  precision    recall  f1-score   support\n",
            "\n",
            "              0       0.00      0.00      0.00       0.0\n",
            "0.0_0.0_0.0_0.0       0.00      0.00      0.00   25373.0\n",
            "0.0_0.0_0.0_1.0       0.00      0.00      0.00     172.0\n",
            "0.0_0.0_0.0_2.0       0.00      0.00      0.00       6.0\n",
            "0.0_0.0_0.0_3.0       0.00      0.00      0.00       3.0\n",
            "0.0_0.0_0.0_nan       0.00      0.00      0.00       5.0\n",
            "0.0_0.0_1.0_0.0       0.00      0.00      0.00       4.0\n",
            "0.0_0.0_3.0_0.0       0.00      0.00      0.00       2.0\n",
            "0.0_0.0_3.0_1.0       0.00      0.00      0.00       1.0\n",
            "0.0_0.0_nan_0.0       0.00      0.00      0.00       1.0\n",
            "0.0_nan_0.0_0.0       0.00      0.00      0.00       1.0\n",
            "              1       0.00      0.00      0.00       0.0\n",
            "1.0_0.0_0.0_0.0       0.00      0.00      0.00    3744.0\n",
            "1.0_0.0_0.0_1.0       0.00      0.00      0.00      31.0\n",
            "1.0_0.0_0.0_2.0       0.00      0.00      0.00       4.0\n",
            "1.0_1.0_0.0_0.0       0.00      0.00      0.00   11124.0\n",
            "1.0_1.0_0.0_1.0       0.00      0.00      0.00      77.0\n",
            "1.0_1.0_0.0_2.0       0.00      0.00      0.00       8.0\n",
            "1.0_1.0_0.0_3.0       0.00      0.00      0.00       5.0\n",
            "1.0_1.0_0.0_nan       0.00      0.00      0.00       1.0\n",
            "1.0_1.0_1.0_0.0       0.00      0.00      0.00       3.0\n",
            "1.0_1.0_2.0_0.0       0.00      0.00      0.00       1.0\n",
            "              2       0.00      0.00      0.00       0.0\n",
            "2.0_1.0_0.0_0.0       0.00      0.00      0.00    1866.0\n",
            "2.0_1.0_0.0_1.0       0.00      0.00      0.00      61.0\n",
            "2.0_1.0_0.0_2.0       0.00      0.00      0.00       3.0\n",
            "2.0_1.0_1.0_0.0       0.00      0.00      0.00      34.0\n",
            "2.0_1.0_1.0_1.0       0.00      0.00      0.00       5.0\n",
            "2.0_1.0_2.0_0.0       0.00      0.00      0.00       2.0\n",
            "2.0_2.0_1.0_0.0       0.00      0.00      0.00      12.0\n",
            "2.0_2.0_1.0_1.0       0.00      0.00      0.00       1.0\n",
            "              3       0.00      0.00      0.00       0.0\n",
            "3.0_1.0_0.0_0.0       0.00      0.00      0.00     272.0\n",
            "3.0_1.0_0.0_1.0       0.00      0.00      0.00      31.0\n",
            "3.0_1.0_0.0_2.0       0.00      0.00      0.00       1.0\n",
            "3.0_1.0_1.0_0.0       0.00      0.00      0.00      14.0\n",
            "3.0_1.0_1.0_1.0       0.00      0.00      0.00       6.0\n",
            "3.0_2.0_0.0_0.0       0.00      0.00      0.00     461.0\n",
            "3.0_2.0_0.0_1.0       0.00      0.00      0.00      44.0\n",
            "3.0_2.0_1.0_0.0       0.00      0.00      0.00      18.0\n",
            "3.0_2.0_2.0_1.0       0.00      0.00      0.00       1.0\n",
            "3.0_3.0_0.0_0.0       0.00      0.00      0.00   18322.0\n",
            "3.0_3.0_0.0_1.0       0.00      0.00      0.00     175.0\n",
            "3.0_3.0_0.0_2.0       0.00      0.00      0.00       7.0\n",
            "3.0_3.0_0.0_3.0       0.00      0.00      0.00       1.0\n",
            "3.0_3.0_0.0_nan       0.00      0.00      0.00       5.0\n",
            "3.0_3.0_1.0_0.0       0.00      0.00      0.00      10.0\n",
            "3.0_3.0_1.0_1.0       0.00      0.00      0.00       1.0\n",
            "nan_0.0_0.0_0.0       0.00      0.00      0.00       1.0\n",
            "\n",
            "       accuracy                           0.00   61920.0\n",
            "      macro avg       0.00      0.00      0.00   61920.0\n",
            "   weighted avg       0.00      0.00      0.00   61920.0\n",
            "\n"
          ]
        },
        {
          "output_type": "display_data",
          "data": {
            "text/plain": [
              "<Figure size 1000x700 with 2 Axes>"
            ],
            "image/png": "[encoded data removed]"
          },
          "metadata": {}
        }
      ]
    }
  ],
  "metadata": {
    "accelerator": "GPU",
    "colab": {
      "gpuType": "T4",
      "provenance": []
    },
    "kernelspec": {
      "display_name": "Python 3",
      "name": "python3"
    },
    "language_info": {
      "name": "python"
    }
  },
  "nbformat": 4,
  "nbformat_minor": 0
}